{
  "nbformat": 4,
  "nbformat_minor": 0,
  "metadata": {
    "colab": {
      "name": "Untitled2.ipynb",
      "provenance": [],
      "include_colab_link": true
    },
    "kernelspec": {
      "name": "python3",
      "display_name": "Python 3"
    },
    "language_info": {
      "name": "python"
    },
    "accelerator": "GPU"
  },
  "cells": [
    {
      "cell_type": "markdown",
      "metadata": {
        "id": "view-in-github",
        "colab_type": "text"
      },
      "source": [
        "<a href=\"https://colab.research.google.com/github/Hee0305/DL/blob/main/final33.ipynb\" target=\"_parent\"><img src=\"https://colab.research.google.com/assets/colab-badge.svg\" alt=\"Open In Colab\"/></a>"
      ]
    },
    {
      "cell_type": "code",
      "execution_count": 31,
      "metadata": {
        "colab": {
          "base_uri": "https://localhost:8080/"
        },
        "id": "NaVQa67XkjgI",
        "outputId": "53b6b865-f725-4110-873a-05b8c9d40212"
      },
      "outputs": [
        {
          "output_type": "stream",
          "name": "stdout",
          "text": [
            "2.7.0\n"
          ]
        }
      ],
      "source": [
        "# from tensorflow.keras.applications.resnet50 import ResNet50, preprocess_input\n",
        "from tensorflow.keras.applications.mobilenet_v2 import  MobileNetV2, preprocess_input\n",
        "import tensorflow.keras as keras\n",
        "from tensorflow.keras import models\n",
        "from tensorflow.keras import layers\n",
        "from tensorflow.keras import optimizers\n",
        "import tensorflow as tf\n",
        "from keras.utils import np_utils\n",
        "from keras.models import load_model\n",
        "from keras.datasets import cifar10\n",
        "from keras.preprocessing import image\n",
        "import numpy as np\n",
        "import matplotlib.pyplot as plt\n",
        "from PIL import Image\n",
        "from tensorflow.keras.utils import to_categorical\n",
        "\n",
        "\n",
        "# import cv2\n",
        "print(tf.__version__)"
      ]
    },
    {
      "cell_type": "code",
      "source": [
        "tf.keras.backend.clear_session()  # For memory\n",
        "\n",
        "# GPU check\n",
        "gpus = tf.config.experimental.list_physical_devices('GPU')\n",
        "if gpus:\n",
        "    try:\n",
        "        for gpu in gpus:\n",
        "            tf.config.experimental.set_memory_growth(gpu, True)\n",
        "        logical_gpus = tf.config.experimental.list_logical_devices('GPU')\n",
        "        print(\"#### \", len(gpus), \"Physical GPUs,\",\n",
        "                 len(logical_gpus), \"Logical GPUs\")\n",
        "    except RuntimeError as e:\n",
        "        # Memory growth must be set before GPUs have been initialized\n",
        "        print(e)\n",
        "else:\n",
        "    print('#### No CUDA supported GPU in this computer.')"
      ],
      "metadata": {
        "colab": {
          "base_uri": "https://localhost:8080/"
        },
        "id": "gInXSszOkoeG",
        "outputId": "6fddaac8-3275-4faf-a6e1-a05eec7cbb4f"
      },
      "execution_count": 32,
      "outputs": [
        {
          "output_type": "stream",
          "name": "stdout",
          "text": [
            "#### No CUDA supported GPU in this computer.\n"
          ]
        }
      ]
    },
    {
      "cell_type": "markdown",
      "source": [
        "**Load Data**"
      ],
      "metadata": {
        "id": "Cr_O6PsakqUQ"
      }
    },
    {
      "cell_type": "code",
      "source": [
        "(x_train, y_train), (x_test, y_test) = cifar10.load_data()\n",
        "\n",
        "num_classes = 10\n",
        "\n",
        "y_train = to_categorical(y_train, num_classes)\n",
        "y_test = to_categorical(y_test, num_classes)"
      ],
      "metadata": {
        "id": "IijBgFjx0dhE"
      },
      "execution_count": 33,
      "outputs": []
    },
    {
      "cell_type": "markdown",
      "source": [
        "**Data augmentation**"
      ],
      "metadata": {
        "id": "AVOMoCT9uevF"
      }
    },
    {
      "cell_type": "code",
      "source": [
        "from keras.preprocessing.image import ImageDataGenerator"
      ],
      "metadata": {
        "id": "q9C8mtIG1Kl-"
      },
      "execution_count": 34,
      "outputs": []
    },
    {
      "cell_type": "code",
      "source": [
        "# datagen = ImageDataGenerator(rescale=1./255.,\n",
        "#                              validation_split=0.9, # 50,000 -> 5,000\n",
        "#                              rotation_range=15,\n",
        "#                              width_shift_range=0.1,\n",
        "#                              height_shift_range=0.1\n",
        "#                              )\n",
        "\n",
        "# train_generator = datagen.flow(x_train,\n",
        "#                                y_train,\n",
        "#                                batch_size=32,\n",
        "#                                shuffle=True,\n",
        "#                                seed=42,\n",
        "#                                subset='training')\n",
        "\n",
        "# valid_generator = datagen.flow(x_test,\n",
        "#                                y_test,\n",
        "#                                batch_size=32,\n",
        "#                                seed=42\n",
        "#                                )\n",
        "\n"
      ],
      "metadata": {
        "id": "kIpEyQCR0gVc"
      },
      "execution_count": 35,
      "outputs": []
    },
    {
      "cell_type": "code",
      "source": [
        "#############\n",
        "\n",
        "datagen = ImageDataGenerator(rescale=1./255.,\n",
        "                             validation_split=0.9, # 50,000 -> 5,000\n",
        "                             \n",
        "                             rotation_range=15, # 이미지 회전값\n",
        "                             shear_range=0.5, # 이미지 기울기\n",
        "                             width_shift_range=0.1, # 좌우이동\n",
        "                             height_shift_range=0.1, # 상하이동\n",
        "                             brightness_range=[0.8,1.2], # 밝기\n",
        "                             zoom_range=[0.7,1.0] # 확대 \n",
        "                             )\n",
        "\n",
        "train_generator = datagen.flow(x_train,\n",
        "                               y_train,\n",
        "                               batch_size=32,\n",
        "                               shuffle=True,\n",
        "                               seed=42,\n",
        "                               subset='training')\n",
        "\n",
        "datagen2 = ImageDataGenerator(rescale=1./255.,)\n",
        "\n",
        "valid_generator = datagen2.flow(x_test,\n",
        "                               y_test,\n",
        "                               batch_size=32,\n",
        "                               seed=42\n",
        "                               )\n",
        "\n"
      ],
      "metadata": {
        "id": "T_k41FBkma-k"
      },
      "execution_count": 42,
      "outputs": []
    },
    {
      "cell_type": "code",
      "source": [
        "print(len(train_generator))\n",
        "print(len(valid_generator))"
      ],
      "metadata": {
        "id": "u58LljlUUuLS",
        "outputId": "1a6dd6a0-0052-4dc0-f6f9-7670332080ae",
        "colab": {
          "base_uri": "https://localhost:8080/"
        }
      },
      "execution_count": 43,
      "outputs": [
        {
          "output_type": "stream",
          "name": "stdout",
          "text": [
            "157\n",
            "313\n"
          ]
        }
      ]
    },
    {
      "cell_type": "code",
      "source": [
        "print(train_generator.n)\n",
        "print(valid_generator.n)"
      ],
      "metadata": {
        "id": "vHPW361U0i-x",
        "outputId": "df86aa8b-61c0-4519-d3d3-1721a2ba339e",
        "colab": {
          "base_uri": "https://localhost:8080/"
        }
      },
      "execution_count": 44,
      "outputs": [
        {
          "output_type": "stream",
          "name": "stdout",
          "text": [
            "5000\n",
            "10000\n"
          ]
        }
      ]
    },
    {
      "cell_type": "markdown",
      "source": [
        "**Model ( MobileNetV2 )**"
      ],
      "metadata": {
        "id": "9zeF9o0Vk-0s"
      }
    },
    {
      "cell_type": "code",
      "source": [
        "TL_base = MobileNetV2(weights='imagenet', include_top=False, input_shape=(224, 224, 3))"
      ],
      "metadata": {
        "id": "bBDCj7a6lCNk"
      },
      "execution_count": null,
      "outputs": []
    },
    {
      "cell_type": "code",
      "source": [
        "len(TL_base.layers)"
      ],
      "metadata": {
        "id": "eCmUh30elETj"
      },
      "execution_count": null,
      "outputs": []
    },
    {
      "cell_type": "code",
      "source": [
        "TL_base.summary()"
      ],
      "metadata": {
        "id": "ZgL8GswalFX-"
      },
      "execution_count": null,
      "outputs": []
    },
    {
      "cell_type": "code",
      "source": [
        "TL_base.layers[-1].get_config() # (7, 7, 1280)"
      ],
      "metadata": {
        "id": "yT9JgWDFlOmg"
      },
      "execution_count": null,
      "outputs": []
    },
    {
      "cell_type": "markdown",
      "source": [
        "**Sequential model**"
      ],
      "metadata": {
        "id": "aTK2LziOl7te"
      }
    },
    {
      "cell_type": "code",
      "source": [
        "TL_base.trainable = False  # Use the representative features pretrained by resnet."
      ],
      "metadata": {
        "id": "8w0wZRC_mByA"
      },
      "execution_count": null,
      "outputs": []
    },
    {
      "cell_type": "code",
      "source": [
        "ko = tf.keras.optimizers.SGD(learning_rate=0.001)\n",
        "# lr = 0.0005\n",
        "\n",
        "model = models.Sequential()\n",
        "model.add(keras.Input(shape=(32,32,3)))\n",
        "model.add(layers.UpSampling2D((7,7)))  # 32*7 = 224\n",
        "model.add(TL_base)\n",
        "model.add(layers.GlobalAveragePooling2D()) # (7,7,2048) => (2048,)\n",
        "model.add(layers.Flatten())\n",
        "model.add(layers.BatchNormalization())\n",
        "model.add(layers.Dense(1024, activation='relu'))\n",
        "model.add(layers.Dropout(0.5))\n",
        "model.add(layers.BatchNormalization())\n",
        "model.add(layers.Dense(512, activation='relu'))\n",
        "model.add(layers.Dropout(0.5))\n",
        "model.add(layers.Dense(256, activation='relu'))\n",
        "model.add(layers.Dropout(0.5))\n",
        "model.add(layers.BatchNormalization())\n",
        "model.add(layers.Dense(10, activation='softmax'))\n",
        "\n",
        "\n",
        "model.compile(optimizer = ko , loss='categorical_crossentropy', metrics = ['accuracy'])"
      ],
      "metadata": {
        "id": "BO0e51Z5mDNc"
      },
      "execution_count": null,
      "outputs": []
    },
    {
      "cell_type": "code",
      "source": [
        "model.summary()"
      ],
      "metadata": {
        "id": "zq4rcwwLnLPT"
      },
      "execution_count": null,
      "outputs": []
    },
    {
      "cell_type": "code",
      "source": [
        "# Plot model\n",
        "from tensorflow.keras.utils import plot_model\n",
        "plot_model(model, show_shapes=True, show_layer_names=True, to_file='model_S.png')"
      ],
      "metadata": {
        "id": "Sz-nFuj1nNuq"
      },
      "execution_count": null,
      "outputs": []
    },
    {
      "cell_type": "code",
      "source": [
        "from tensorflow.keras import layers, models, callbacks"
      ],
      "metadata": {
        "id": "zpgfQ2_JnSFZ"
      },
      "execution_count": null,
      "outputs": []
    },
    {
      "cell_type": "code",
      "source": [
        "mc_callback = callbacks.ModelCheckpoint(filepath=\"./model/cifar10_pct100_mobilenetV2S_SGD_best_weights.{epoch:03d}-{val_accuracy:.4f}.hdf5\", \n",
        "                              monitor='val_accuracy', verbose=0, save_best_only=True)\n",
        "es_callback = callbacks.EarlyStopping(monitor='val_accuracy', \n",
        "                            mode='max', verbose=1, patience=5)"
      ],
      "metadata": {
        "id": "odDl4a2EnS1W"
      },
      "execution_count": null,
      "outputs": []
    },
    {
      "cell_type": "code",
      "source": [
        "STEP_SIZE_TRAIN=train_generator.n//train_generator.batch_size\n",
        "STEP_SIZE_VALID=valid_generator.n//valid_generator.batch_size\n",
        "\n",
        "history = model.fit(train_generator,\n",
        "                    steps_per_epoch=STEP_SIZE_TRAIN,\n",
        "                    validation_data=valid_generator,\n",
        "                    validation_steps=STEP_SIZE_VALID,\n",
        "                    epochs=100)"
      ],
      "metadata": {
        "id": "6OwZ9Iehvnqd"
      },
      "execution_count": null,
      "outputs": []
    },
    {
      "cell_type": "markdown",
      "source": [
        "**Fine tuning**"
      ],
      "metadata": {
        "id": "BX_snHwXnibz"
      }
    },
    {
      "cell_type": "code",
      "source": [
        "# Unfreeze all layers in base model\n",
        "tf.keras.backend.clear_session()  # For memory\n",
        "TL_base.trainable = True"
      ],
      "metadata": {
        "id": "ag7BgpyhnkJN"
      },
      "execution_count": null,
      "outputs": []
    },
    {
      "cell_type": "code",
      "source": [
        "# Let's take a look to see how many layers are in the base model\n",
        "print(\"Number of layers in the base model: \", len(TL_base.layers))"
      ],
      "metadata": {
        "id": "4M52Yw4pnlTt"
      },
      "execution_count": null,
      "outputs": []
    },
    {
      "cell_type": "code",
      "source": [
        "# Fine-tune from this layer onwards\n",
        "fine_tune_at = 107  # 81, 107 for mobilenetV2\n",
        "\n",
        "# Freeze all the layers before the `fine_tune_at` layer\n",
        "for layer in TL_base.layers[:fine_tune_at]:\n",
        "  layer.trainable =  False"
      ],
      "metadata": {
        "id": "6ZCltsMYnmjv"
      },
      "execution_count": null,
      "outputs": []
    },
    {
      "cell_type": "code",
      "source": [
        "# Compile model\n",
        "model.compile(optimizer='SGD', \n",
        "                loss='categorical_crossentropy',  # sparse_categorical_crossentropy\n",
        "                metrics = ['accuracy'])"
      ],
      "metadata": {
        "id": "S22JobVhnnd8"
      },
      "execution_count": null,
      "outputs": []
    },
    {
      "cell_type": "code",
      "source": [
        "model.summary()"
      ],
      "metadata": {
        "id": "U4b_EPgPnpag"
      },
      "execution_count": null,
      "outputs": []
    },
    {
      "cell_type": "code",
      "source": [
        "mc_callback = callbacks.ModelCheckpoint(filepath=\"./model/cifar10_pct100_mobileNetV2S_FT_SGD_best_weights.{epoch:03d}-{val_accuracy:.4f}.hdf5\", \n",
        "                              monitor='val_accuracy', verbose=0, save_best_only=True)\n",
        "es_callback = callbacks.EarlyStopping(monitor='val_accuracy', \n",
        "                            mode='max', verbose=1, patience=5)"
      ],
      "metadata": {
        "id": "D1nSu0mEnqdN"
      },
      "execution_count": null,
      "outputs": []
    },
    {
      "cell_type": "markdown",
      "source": [
        "**Train fine-tuned model**"
      ],
      "metadata": {
        "id": "dFZ0oentns7H"
      }
    },
    {
      "cell_type": "code",
      "source": [
        "history_dict = history.history\n",
        "loss = history_dict['loss']\n",
        "\n",
        "INITIAL_EPOCHS = len(loss)\n",
        "FINE_TUNE_EPOCHS = 100\n",
        "TOTAL_EPOCHS = INITIAL_EPOCHS + FINE_TUNE_EPOCHS #"
      ],
      "metadata": {
        "id": "TNI4aziinrbh"
      },
      "execution_count": null,
      "outputs": []
    },
    {
      "cell_type": "code",
      "source": [
        "%%time\n",
        "history_fine = model.fit(train_generator, \n",
        "                    epochs=TOTAL_EPOCHS, \n",
        "                    initial_epoch=INITIAL_EPOCHS,\n",
        "                    batch_size=32, \n",
        "                    validation_data=valid_generator,\n",
        "                    callbacks=[mc_callback,es_callback])"
      ],
      "metadata": {
        "id": "ZPYem38QnwN-"
      },
      "execution_count": null,
      "outputs": []
    }
  ]
}
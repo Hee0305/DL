{
  "cells": [
    {
      "cell_type": "markdown",
      "metadata": {
        "id": "view-in-github",
        "colab_type": "text"
      },
      "source": [
        "<a href=\"https://colab.research.google.com/github/Hee0305/DL/blob/main/Final.ipynb\" target=\"_parent\"><img src=\"https://colab.research.google.com/assets/colab-badge.svg\" alt=\"Open In Colab\"/></a>"
      ]
    },
    {
      "cell_type": "code",
      "execution_count": 1,
      "metadata": {
        "id": "NaVQa67XkjgI",
        "colab": {
          "base_uri": "https://localhost:8080/"
        },
        "outputId": "d558e454-c961-4fb2-a55d-323eebaf05c0"
      },
      "outputs": [
        {
          "output_type": "stream",
          "name": "stdout",
          "text": [
            "2.7.0\n"
          ]
        }
      ],
      "source": [
        "# from tensorflow.keras.applications.resnet50 import ResNet50, preprocess_input\n",
        "from tensorflow.keras.applications.mobilenet_v2 import  MobileNetV2, preprocess_input\n",
        "import tensorflow.keras as keras\n",
        "from tensorflow.keras import models\n",
        "from tensorflow.keras import layers\n",
        "from tensorflow.keras import optimizers\n",
        "import tensorflow as tf\n",
        "from keras.utils import np_utils\n",
        "from keras.models import load_model\n",
        "from keras.datasets import cifar10\n",
        "from keras.preprocessing import image\n",
        "import numpy as np\n",
        "import matplotlib.pyplot as plt\n",
        "from PIL import Image\n",
        "from tensorflow.keras.utils import to_categorical\n",
        "from sklearn.model_selection import train_test_split\n",
        "\n",
        "# import cv2\n",
        "print(tf.__version__)"
      ]
    },
    {
      "cell_type": "code",
      "execution_count": 2,
      "metadata": {
        "id": "gInXSszOkoeG",
        "colab": {
          "base_uri": "https://localhost:8080/"
        },
        "outputId": "4d5b75cc-6057-4047-cef7-ed47fb776c03"
      },
      "outputs": [
        {
          "output_type": "stream",
          "name": "stdout",
          "text": [
            "####  1 Physical GPUs, 1 Logical GPUs\n"
          ]
        }
      ],
      "source": [
        "tf.keras.backend.clear_session()  # For memory\n",
        "\n",
        "# GPU check\n",
        "gpus = tf.config.experimental.list_physical_devices('GPU')\n",
        "if gpus:\n",
        "    try:\n",
        "        for gpu in gpus:\n",
        "            tf.config.experimental.set_memory_growth(gpu, True)\n",
        "        logical_gpus = tf.config.experimental.list_logical_devices('GPU')\n",
        "        print(\"#### \", len(gpus), \"Physical GPUs,\",\n",
        "                 len(logical_gpus), \"Logical GPUs\")\n",
        "    except RuntimeError as e:\n",
        "        # Memory growth must be set before GPUs have been initialized\n",
        "        print(e)\n",
        "else:\n",
        "    print('#### No CUDA supported GPU in this computer.')"
      ]
    },
    {
      "cell_type": "markdown",
      "metadata": {
        "id": "Cr_O6PsakqUQ"
      },
      "source": [
        "**Load Data**"
      ]
    },
    {
      "cell_type": "code",
      "execution_count": 3,
      "metadata": {
        "colab": {
          "base_uri": "https://localhost:8080/"
        },
        "id": "IijBgFjx0dhE",
        "outputId": "1b78ae0c-eb41-4926-baf0-360d2090b292"
      },
      "outputs": [
        {
          "output_type": "stream",
          "name": "stdout",
          "text": [
            "Downloading data from https://www.cs.toronto.edu/~kriz/cifar-10-python.tar.gz\n",
            "170500096/170498071 [==============================] - 3s 0us/step\n",
            "170508288/170498071 [==============================] - 3s 0us/step\n",
            "(5000, 32, 32, 3)\n",
            "(5000, 1)\n"
          ]
        }
      ],
      "source": [
        "(x_train, y_train), (x_test, y_test) = cifar10.load_data()\n",
        "\n",
        "num_classes = 10\n",
        "\n",
        "x_train,_ = train_test_split(x_train,test_size=0.9,random_state=304,shuffle=True)\n",
        "y_train,_ = train_test_split(y_train,test_size=0.9,random_state=304,shuffle=True)\n",
        "\n",
        "print(x_train.shape)\n",
        "print(y_train.shape)\n",
        "\n",
        "\n",
        "y_train = to_categorical(y_train, num_classes)\n",
        "y_test = to_categorical(y_test, num_classes)\n"
      ]
    },
    {
      "cell_type": "markdown",
      "metadata": {
        "id": "AVOMoCT9uevF"
      },
      "source": [
        "**Data augmentation**"
      ]
    },
    {
      "cell_type": "code",
      "execution_count": 4,
      "metadata": {
        "id": "q9C8mtIG1Kl-"
      },
      "outputs": [],
      "source": [
        "from keras.preprocessing.image import ImageDataGenerator"
      ]
    },
    {
      "cell_type": "code",
      "execution_count": 5,
      "metadata": {
        "id": "T_k41FBkma-k"
      },
      "outputs": [],
      "source": [
        "batch_size = 32\n",
        "datagen = ImageDataGenerator(rescale=1./255.,\n",
        "                             #validation_split=0.9, # 50,000 -> 5,000                           \n",
        "                             rotation_range=15, # 이미지 회전값\n",
        "                             shear_range=0.5, # 이미지 기울기\n",
        "                             width_shift_range=0.1, # 좌우이동\n",
        "                             height_shift_range=0.1, # 상하이동\n",
        "                             horizontal_flip=True\n",
        "                             # brightness_range=[0.8,1.2], # 밝기\n",
        "                             #zoom_range=[0.7,1.0] # 확대 \n",
        "                             )\n",
        "datagen.fit(x_train)\n",
        "\n",
        "datagen2 = ImageDataGenerator(rescale=1./255.,)\n",
        "\n",
        "valid_generator = datagen2.flow(x_test,\n",
        "                               y_test,\n",
        "                               batch_size=batch_size,\n",
        "                               seed=42\n",
        "                               )\n",
        "\n",
        "\n",
        "generate_img_num = 2\n",
        "generated_data = []\n",
        "generated_data_label = []\n",
        "for index in range(len(x_train)):\n",
        "  count = 0\n",
        "  x = x_train[index].reshape((1,) + x_train[index].shape)\n",
        "  for batch in datagen.flow(x, batch_size=1):\n",
        "    count += 1\n",
        "    generated_data.append(batch)\n",
        "    generated_data_label.append(y_train[index])\n",
        "    if count == generate_img_num: \n",
        "        break\n",
        "\n",
        "x_train = np.squeeze(np.array(generated_data))\n",
        "\n",
        "y_train = np.array(generated_data_label)\n",
        "\n"
      ]
    },
    {
      "cell_type": "code",
      "execution_count": 6,
      "metadata": {
        "colab": {
          "base_uri": "https://localhost:8080/"
        },
        "id": "u58LljlUUuLS",
        "outputId": "99a9ec67-2912-4786-aab9-e36b22963797"
      },
      "outputs": [
        {
          "output_type": "stream",
          "name": "stdout",
          "text": [
            "313\n"
          ]
        }
      ],
      "source": [
        "# print(len(train_generator))\n",
        "print(len(valid_generator))"
      ]
    },
    {
      "cell_type": "code",
      "execution_count": 7,
      "metadata": {
        "colab": {
          "base_uri": "https://localhost:8080/"
        },
        "id": "vHPW361U0i-x",
        "outputId": "0d813b22-dca3-4cbc-f7ed-aed68c0412d3"
      },
      "outputs": [
        {
          "output_type": "stream",
          "name": "stdout",
          "text": [
            "10000\n"
          ]
        }
      ],
      "source": [
        "# print(train_generator.n)\n",
        "print(valid_generator.n)"
      ]
    },
    {
      "cell_type": "markdown",
      "metadata": {
        "id": "9zeF9o0Vk-0s"
      },
      "source": [
        "**Model ( MobileNetV2 )**"
      ]
    },
    {
      "cell_type": "code",
      "execution_count": 8,
      "metadata": {
        "id": "bBDCj7a6lCNk",
        "colab": {
          "base_uri": "https://localhost:8080/"
        },
        "outputId": "19aab7b8-3904-485d-b0f7-478ebad1b6d5"
      },
      "outputs": [
        {
          "output_type": "stream",
          "name": "stdout",
          "text": [
            "Downloading data from https://storage.googleapis.com/tensorflow/keras-applications/mobilenet_v2/mobilenet_v2_weights_tf_dim_ordering_tf_kernels_1.0_224_no_top.h5\n",
            "9412608/9406464 [==============================] - 0s 0us/step\n",
            "9420800/9406464 [==============================] - 0s 0us/step\n"
          ]
        }
      ],
      "source": [
        "TL_base = MobileNetV2(weights='imagenet', include_top=False, input_shape=(224, 224, 3))"
      ]
    },
    {
      "cell_type": "code",
      "execution_count": 9,
      "metadata": {
        "colab": {
          "base_uri": "https://localhost:8080/"
        },
        "id": "eCmUh30elETj",
        "outputId": "400b028f-ffb0-4398-cc12-a8501ce5d290"
      },
      "outputs": [
        {
          "output_type": "execute_result",
          "data": {
            "text/plain": [
              "154"
            ]
          },
          "metadata": {},
          "execution_count": 9
        }
      ],
      "source": [
        "len(TL_base.layers)"
      ]
    },
    {
      "cell_type": "code",
      "execution_count": 10,
      "metadata": {
        "colab": {
          "base_uri": "https://localhost:8080/"
        },
        "id": "ZgL8GswalFX-",
        "outputId": "84f65c90-ec71-4ca1-ccb4-b2cba36ec4b1"
      },
      "outputs": [
        {
          "output_type": "stream",
          "name": "stdout",
          "text": [
            "Model: \"mobilenetv2_1.00_224\"\n",
            "__________________________________________________________________________________________________\n",
            " Layer (type)                   Output Shape         Param #     Connected to                     \n",
            "==================================================================================================\n",
            " input_1 (InputLayer)           [(None, 224, 224, 3  0           []                               \n",
            "                                )]                                                                \n",
            "                                                                                                  \n",
            " Conv1 (Conv2D)                 (None, 112, 112, 32  864         ['input_1[0][0]']                \n",
            "                                )                                                                 \n",
            "                                                                                                  \n",
            " bn_Conv1 (BatchNormalization)  (None, 112, 112, 32  128         ['Conv1[0][0]']                  \n",
            "                                )                                                                 \n",
            "                                                                                                  \n",
            " Conv1_relu (ReLU)              (None, 112, 112, 32  0           ['bn_Conv1[0][0]']               \n",
            "                                )                                                                 \n",
            "                                                                                                  \n",
            " expanded_conv_depthwise (Depth  (None, 112, 112, 32  288        ['Conv1_relu[0][0]']             \n",
            " wiseConv2D)                    )                                                                 \n",
            "                                                                                                  \n",
            " expanded_conv_depthwise_BN (Ba  (None, 112, 112, 32  128        ['expanded_conv_depthwise[0][0]']\n",
            " tchNormalization)              )                                                                 \n",
            "                                                                                                  \n",
            " expanded_conv_depthwise_relu (  (None, 112, 112, 32  0          ['expanded_conv_depthwise_BN[0][0\n",
            " ReLU)                          )                                ]']                              \n",
            "                                                                                                  \n",
            " expanded_conv_project (Conv2D)  (None, 112, 112, 16  512        ['expanded_conv_depthwise_relu[0]\n",
            "                                )                                [0]']                            \n",
            "                                                                                                  \n",
            " expanded_conv_project_BN (Batc  (None, 112, 112, 16  64         ['expanded_conv_project[0][0]']  \n",
            " hNormalization)                )                                                                 \n",
            "                                                                                                  \n",
            " block_1_expand (Conv2D)        (None, 112, 112, 96  1536        ['expanded_conv_project_BN[0][0]'\n",
            "                                )                                ]                                \n",
            "                                                                                                  \n",
            " block_1_expand_BN (BatchNormal  (None, 112, 112, 96  384        ['block_1_expand[0][0]']         \n",
            " ization)                       )                                                                 \n",
            "                                                                                                  \n",
            " block_1_expand_relu (ReLU)     (None, 112, 112, 96  0           ['block_1_expand_BN[0][0]']      \n",
            "                                )                                                                 \n",
            "                                                                                                  \n",
            " block_1_pad (ZeroPadding2D)    (None, 113, 113, 96  0           ['block_1_expand_relu[0][0]']    \n",
            "                                )                                                                 \n",
            "                                                                                                  \n",
            " block_1_depthwise (DepthwiseCo  (None, 56, 56, 96)  864         ['block_1_pad[0][0]']            \n",
            " nv2D)                                                                                            \n",
            "                                                                                                  \n",
            " block_1_depthwise_BN (BatchNor  (None, 56, 56, 96)  384         ['block_1_depthwise[0][0]']      \n",
            " malization)                                                                                      \n",
            "                                                                                                  \n",
            " block_1_depthwise_relu (ReLU)  (None, 56, 56, 96)   0           ['block_1_depthwise_BN[0][0]']   \n",
            "                                                                                                  \n",
            " block_1_project (Conv2D)       (None, 56, 56, 24)   2304        ['block_1_depthwise_relu[0][0]'] \n",
            "                                                                                                  \n",
            " block_1_project_BN (BatchNorma  (None, 56, 56, 24)  96          ['block_1_project[0][0]']        \n",
            " lization)                                                                                        \n",
            "                                                                                                  \n",
            " block_2_expand (Conv2D)        (None, 56, 56, 144)  3456        ['block_1_project_BN[0][0]']     \n",
            "                                                                                                  \n",
            " block_2_expand_BN (BatchNormal  (None, 56, 56, 144)  576        ['block_2_expand[0][0]']         \n",
            " ization)                                                                                         \n",
            "                                                                                                  \n",
            " block_2_expand_relu (ReLU)     (None, 56, 56, 144)  0           ['block_2_expand_BN[0][0]']      \n",
            "                                                                                                  \n",
            " block_2_depthwise (DepthwiseCo  (None, 56, 56, 144)  1296       ['block_2_expand_relu[0][0]']    \n",
            " nv2D)                                                                                            \n",
            "                                                                                                  \n",
            " block_2_depthwise_BN (BatchNor  (None, 56, 56, 144)  576        ['block_2_depthwise[0][0]']      \n",
            " malization)                                                                                      \n",
            "                                                                                                  \n",
            " block_2_depthwise_relu (ReLU)  (None, 56, 56, 144)  0           ['block_2_depthwise_BN[0][0]']   \n",
            "                                                                                                  \n",
            " block_2_project (Conv2D)       (None, 56, 56, 24)   3456        ['block_2_depthwise_relu[0][0]'] \n",
            "                                                                                                  \n",
            " block_2_project_BN (BatchNorma  (None, 56, 56, 24)  96          ['block_2_project[0][0]']        \n",
            " lization)                                                                                        \n",
            "                                                                                                  \n",
            " block_2_add (Add)              (None, 56, 56, 24)   0           ['block_1_project_BN[0][0]',     \n",
            "                                                                  'block_2_project_BN[0][0]']     \n",
            "                                                                                                  \n",
            " block_3_expand (Conv2D)        (None, 56, 56, 144)  3456        ['block_2_add[0][0]']            \n",
            "                                                                                                  \n",
            " block_3_expand_BN (BatchNormal  (None, 56, 56, 144)  576        ['block_3_expand[0][0]']         \n",
            " ization)                                                                                         \n",
            "                                                                                                  \n",
            " block_3_expand_relu (ReLU)     (None, 56, 56, 144)  0           ['block_3_expand_BN[0][0]']      \n",
            "                                                                                                  \n",
            " block_3_pad (ZeroPadding2D)    (None, 57, 57, 144)  0           ['block_3_expand_relu[0][0]']    \n",
            "                                                                                                  \n",
            " block_3_depthwise (DepthwiseCo  (None, 28, 28, 144)  1296       ['block_3_pad[0][0]']            \n",
            " nv2D)                                                                                            \n",
            "                                                                                                  \n",
            " block_3_depthwise_BN (BatchNor  (None, 28, 28, 144)  576        ['block_3_depthwise[0][0]']      \n",
            " malization)                                                                                      \n",
            "                                                                                                  \n",
            " block_3_depthwise_relu (ReLU)  (None, 28, 28, 144)  0           ['block_3_depthwise_BN[0][0]']   \n",
            "                                                                                                  \n",
            " block_3_project (Conv2D)       (None, 28, 28, 32)   4608        ['block_3_depthwise_relu[0][0]'] \n",
            "                                                                                                  \n",
            " block_3_project_BN (BatchNorma  (None, 28, 28, 32)  128         ['block_3_project[0][0]']        \n",
            " lization)                                                                                        \n",
            "                                                                                                  \n",
            " block_4_expand (Conv2D)        (None, 28, 28, 192)  6144        ['block_3_project_BN[0][0]']     \n",
            "                                                                                                  \n",
            " block_4_expand_BN (BatchNormal  (None, 28, 28, 192)  768        ['block_4_expand[0][0]']         \n",
            " ization)                                                                                         \n",
            "                                                                                                  \n",
            " block_4_expand_relu (ReLU)     (None, 28, 28, 192)  0           ['block_4_expand_BN[0][0]']      \n",
            "                                                                                                  \n",
            " block_4_depthwise (DepthwiseCo  (None, 28, 28, 192)  1728       ['block_4_expand_relu[0][0]']    \n",
            " nv2D)                                                                                            \n",
            "                                                                                                  \n",
            " block_4_depthwise_BN (BatchNor  (None, 28, 28, 192)  768        ['block_4_depthwise[0][0]']      \n",
            " malization)                                                                                      \n",
            "                                                                                                  \n",
            " block_4_depthwise_relu (ReLU)  (None, 28, 28, 192)  0           ['block_4_depthwise_BN[0][0]']   \n",
            "                                                                                                  \n",
            " block_4_project (Conv2D)       (None, 28, 28, 32)   6144        ['block_4_depthwise_relu[0][0]'] \n",
            "                                                                                                  \n",
            " block_4_project_BN (BatchNorma  (None, 28, 28, 32)  128         ['block_4_project[0][0]']        \n",
            " lization)                                                                                        \n",
            "                                                                                                  \n",
            " block_4_add (Add)              (None, 28, 28, 32)   0           ['block_3_project_BN[0][0]',     \n",
            "                                                                  'block_4_project_BN[0][0]']     \n",
            "                                                                                                  \n",
            " block_5_expand (Conv2D)        (None, 28, 28, 192)  6144        ['block_4_add[0][0]']            \n",
            "                                                                                                  \n",
            " block_5_expand_BN (BatchNormal  (None, 28, 28, 192)  768        ['block_5_expand[0][0]']         \n",
            " ization)                                                                                         \n",
            "                                                                                                  \n",
            " block_5_expand_relu (ReLU)     (None, 28, 28, 192)  0           ['block_5_expand_BN[0][0]']      \n",
            "                                                                                                  \n",
            " block_5_depthwise (DepthwiseCo  (None, 28, 28, 192)  1728       ['block_5_expand_relu[0][0]']    \n",
            " nv2D)                                                                                            \n",
            "                                                                                                  \n",
            " block_5_depthwise_BN (BatchNor  (None, 28, 28, 192)  768        ['block_5_depthwise[0][0]']      \n",
            " malization)                                                                                      \n",
            "                                                                                                  \n",
            " block_5_depthwise_relu (ReLU)  (None, 28, 28, 192)  0           ['block_5_depthwise_BN[0][0]']   \n",
            "                                                                                                  \n",
            " block_5_project (Conv2D)       (None, 28, 28, 32)   6144        ['block_5_depthwise_relu[0][0]'] \n",
            "                                                                                                  \n",
            " block_5_project_BN (BatchNorma  (None, 28, 28, 32)  128         ['block_5_project[0][0]']        \n",
            " lization)                                                                                        \n",
            "                                                                                                  \n",
            " block_5_add (Add)              (None, 28, 28, 32)   0           ['block_4_add[0][0]',            \n",
            "                                                                  'block_5_project_BN[0][0]']     \n",
            "                                                                                                  \n",
            " block_6_expand (Conv2D)        (None, 28, 28, 192)  6144        ['block_5_add[0][0]']            \n",
            "                                                                                                  \n",
            " block_6_expand_BN (BatchNormal  (None, 28, 28, 192)  768        ['block_6_expand[0][0]']         \n",
            " ization)                                                                                         \n",
            "                                                                                                  \n",
            " block_6_expand_relu (ReLU)     (None, 28, 28, 192)  0           ['block_6_expand_BN[0][0]']      \n",
            "                                                                                                  \n",
            " block_6_pad (ZeroPadding2D)    (None, 29, 29, 192)  0           ['block_6_expand_relu[0][0]']    \n",
            "                                                                                                  \n",
            " block_6_depthwise (DepthwiseCo  (None, 14, 14, 192)  1728       ['block_6_pad[0][0]']            \n",
            " nv2D)                                                                                            \n",
            "                                                                                                  \n",
            " block_6_depthwise_BN (BatchNor  (None, 14, 14, 192)  768        ['block_6_depthwise[0][0]']      \n",
            " malization)                                                                                      \n",
            "                                                                                                  \n",
            " block_6_depthwise_relu (ReLU)  (None, 14, 14, 192)  0           ['block_6_depthwise_BN[0][0]']   \n",
            "                                                                                                  \n",
            " block_6_project (Conv2D)       (None, 14, 14, 64)   12288       ['block_6_depthwise_relu[0][0]'] \n",
            "                                                                                                  \n",
            " block_6_project_BN (BatchNorma  (None, 14, 14, 64)  256         ['block_6_project[0][0]']        \n",
            " lization)                                                                                        \n",
            "                                                                                                  \n",
            " block_7_expand (Conv2D)        (None, 14, 14, 384)  24576       ['block_6_project_BN[0][0]']     \n",
            "                                                                                                  \n",
            " block_7_expand_BN (BatchNormal  (None, 14, 14, 384)  1536       ['block_7_expand[0][0]']         \n",
            " ization)                                                                                         \n",
            "                                                                                                  \n",
            " block_7_expand_relu (ReLU)     (None, 14, 14, 384)  0           ['block_7_expand_BN[0][0]']      \n",
            "                                                                                                  \n",
            " block_7_depthwise (DepthwiseCo  (None, 14, 14, 384)  3456       ['block_7_expand_relu[0][0]']    \n",
            " nv2D)                                                                                            \n",
            "                                                                                                  \n",
            " block_7_depthwise_BN (BatchNor  (None, 14, 14, 384)  1536       ['block_7_depthwise[0][0]']      \n",
            " malization)                                                                                      \n",
            "                                                                                                  \n",
            " block_7_depthwise_relu (ReLU)  (None, 14, 14, 384)  0           ['block_7_depthwise_BN[0][0]']   \n",
            "                                                                                                  \n",
            " block_7_project (Conv2D)       (None, 14, 14, 64)   24576       ['block_7_depthwise_relu[0][0]'] \n",
            "                                                                                                  \n",
            " block_7_project_BN (BatchNorma  (None, 14, 14, 64)  256         ['block_7_project[0][0]']        \n",
            " lization)                                                                                        \n",
            "                                                                                                  \n",
            " block_7_add (Add)              (None, 14, 14, 64)   0           ['block_6_project_BN[0][0]',     \n",
            "                                                                  'block_7_project_BN[0][0]']     \n",
            "                                                                                                  \n",
            " block_8_expand (Conv2D)        (None, 14, 14, 384)  24576       ['block_7_add[0][0]']            \n",
            "                                                                                                  \n",
            " block_8_expand_BN (BatchNormal  (None, 14, 14, 384)  1536       ['block_8_expand[0][0]']         \n",
            " ization)                                                                                         \n",
            "                                                                                                  \n",
            " block_8_expand_relu (ReLU)     (None, 14, 14, 384)  0           ['block_8_expand_BN[0][0]']      \n",
            "                                                                                                  \n",
            " block_8_depthwise (DepthwiseCo  (None, 14, 14, 384)  3456       ['block_8_expand_relu[0][0]']    \n",
            " nv2D)                                                                                            \n",
            "                                                                                                  \n",
            " block_8_depthwise_BN (BatchNor  (None, 14, 14, 384)  1536       ['block_8_depthwise[0][0]']      \n",
            " malization)                                                                                      \n",
            "                                                                                                  \n",
            " block_8_depthwise_relu (ReLU)  (None, 14, 14, 384)  0           ['block_8_depthwise_BN[0][0]']   \n",
            "                                                                                                  \n",
            " block_8_project (Conv2D)       (None, 14, 14, 64)   24576       ['block_8_depthwise_relu[0][0]'] \n",
            "                                                                                                  \n",
            " block_8_project_BN (BatchNorma  (None, 14, 14, 64)  256         ['block_8_project[0][0]']        \n",
            " lization)                                                                                        \n",
            "                                                                                                  \n",
            " block_8_add (Add)              (None, 14, 14, 64)   0           ['block_7_add[0][0]',            \n",
            "                                                                  'block_8_project_BN[0][0]']     \n",
            "                                                                                                  \n",
            " block_9_expand (Conv2D)        (None, 14, 14, 384)  24576       ['block_8_add[0][0]']            \n",
            "                                                                                                  \n",
            " block_9_expand_BN (BatchNormal  (None, 14, 14, 384)  1536       ['block_9_expand[0][0]']         \n",
            " ization)                                                                                         \n",
            "                                                                                                  \n",
            " block_9_expand_relu (ReLU)     (None, 14, 14, 384)  0           ['block_9_expand_BN[0][0]']      \n",
            "                                                                                                  \n",
            " block_9_depthwise (DepthwiseCo  (None, 14, 14, 384)  3456       ['block_9_expand_relu[0][0]']    \n",
            " nv2D)                                                                                            \n",
            "                                                                                                  \n",
            " block_9_depthwise_BN (BatchNor  (None, 14, 14, 384)  1536       ['block_9_depthwise[0][0]']      \n",
            " malization)                                                                                      \n",
            "                                                                                                  \n",
            " block_9_depthwise_relu (ReLU)  (None, 14, 14, 384)  0           ['block_9_depthwise_BN[0][0]']   \n",
            "                                                                                                  \n",
            " block_9_project (Conv2D)       (None, 14, 14, 64)   24576       ['block_9_depthwise_relu[0][0]'] \n",
            "                                                                                                  \n",
            " block_9_project_BN (BatchNorma  (None, 14, 14, 64)  256         ['block_9_project[0][0]']        \n",
            " lization)                                                                                        \n",
            "                                                                                                  \n",
            " block_9_add (Add)              (None, 14, 14, 64)   0           ['block_8_add[0][0]',            \n",
            "                                                                  'block_9_project_BN[0][0]']     \n",
            "                                                                                                  \n",
            " block_10_expand (Conv2D)       (None, 14, 14, 384)  24576       ['block_9_add[0][0]']            \n",
            "                                                                                                  \n",
            " block_10_expand_BN (BatchNorma  (None, 14, 14, 384)  1536       ['block_10_expand[0][0]']        \n",
            " lization)                                                                                        \n",
            "                                                                                                  \n",
            " block_10_expand_relu (ReLU)    (None, 14, 14, 384)  0           ['block_10_expand_BN[0][0]']     \n",
            "                                                                                                  \n",
            " block_10_depthwise (DepthwiseC  (None, 14, 14, 384)  3456       ['block_10_expand_relu[0][0]']   \n",
            " onv2D)                                                                                           \n",
            "                                                                                                  \n",
            " block_10_depthwise_BN (BatchNo  (None, 14, 14, 384)  1536       ['block_10_depthwise[0][0]']     \n",
            " rmalization)                                                                                     \n",
            "                                                                                                  \n",
            " block_10_depthwise_relu (ReLU)  (None, 14, 14, 384)  0          ['block_10_depthwise_BN[0][0]']  \n",
            "                                                                                                  \n",
            " block_10_project (Conv2D)      (None, 14, 14, 96)   36864       ['block_10_depthwise_relu[0][0]']\n",
            "                                                                                                  \n",
            " block_10_project_BN (BatchNorm  (None, 14, 14, 96)  384         ['block_10_project[0][0]']       \n",
            " alization)                                                                                       \n",
            "                                                                                                  \n",
            " block_11_expand (Conv2D)       (None, 14, 14, 576)  55296       ['block_10_project_BN[0][0]']    \n",
            "                                                                                                  \n",
            " block_11_expand_BN (BatchNorma  (None, 14, 14, 576)  2304       ['block_11_expand[0][0]']        \n",
            " lization)                                                                                        \n",
            "                                                                                                  \n",
            " block_11_expand_relu (ReLU)    (None, 14, 14, 576)  0           ['block_11_expand_BN[0][0]']     \n",
            "                                                                                                  \n",
            " block_11_depthwise (DepthwiseC  (None, 14, 14, 576)  5184       ['block_11_expand_relu[0][0]']   \n",
            " onv2D)                                                                                           \n",
            "                                                                                                  \n",
            " block_11_depthwise_BN (BatchNo  (None, 14, 14, 576)  2304       ['block_11_depthwise[0][0]']     \n",
            " rmalization)                                                                                     \n",
            "                                                                                                  \n",
            " block_11_depthwise_relu (ReLU)  (None, 14, 14, 576)  0          ['block_11_depthwise_BN[0][0]']  \n",
            "                                                                                                  \n",
            " block_11_project (Conv2D)      (None, 14, 14, 96)   55296       ['block_11_depthwise_relu[0][0]']\n",
            "                                                                                                  \n",
            " block_11_project_BN (BatchNorm  (None, 14, 14, 96)  384         ['block_11_project[0][0]']       \n",
            " alization)                                                                                       \n",
            "                                                                                                  \n",
            " block_11_add (Add)             (None, 14, 14, 96)   0           ['block_10_project_BN[0][0]',    \n",
            "                                                                  'block_11_project_BN[0][0]']    \n",
            "                                                                                                  \n",
            " block_12_expand (Conv2D)       (None, 14, 14, 576)  55296       ['block_11_add[0][0]']           \n",
            "                                                                                                  \n",
            " block_12_expand_BN (BatchNorma  (None, 14, 14, 576)  2304       ['block_12_expand[0][0]']        \n",
            " lization)                                                                                        \n",
            "                                                                                                  \n",
            " block_12_expand_relu (ReLU)    (None, 14, 14, 576)  0           ['block_12_expand_BN[0][0]']     \n",
            "                                                                                                  \n",
            " block_12_depthwise (DepthwiseC  (None, 14, 14, 576)  5184       ['block_12_expand_relu[0][0]']   \n",
            " onv2D)                                                                                           \n",
            "                                                                                                  \n",
            " block_12_depthwise_BN (BatchNo  (None, 14, 14, 576)  2304       ['block_12_depthwise[0][0]']     \n",
            " rmalization)                                                                                     \n",
            "                                                                                                  \n",
            " block_12_depthwise_relu (ReLU)  (None, 14, 14, 576)  0          ['block_12_depthwise_BN[0][0]']  \n",
            "                                                                                                  \n",
            " block_12_project (Conv2D)      (None, 14, 14, 96)   55296       ['block_12_depthwise_relu[0][0]']\n",
            "                                                                                                  \n",
            " block_12_project_BN (BatchNorm  (None, 14, 14, 96)  384         ['block_12_project[0][0]']       \n",
            " alization)                                                                                       \n",
            "                                                                                                  \n",
            " block_12_add (Add)             (None, 14, 14, 96)   0           ['block_11_add[0][0]',           \n",
            "                                                                  'block_12_project_BN[0][0]']    \n",
            "                                                                                                  \n",
            " block_13_expand (Conv2D)       (None, 14, 14, 576)  55296       ['block_12_add[0][0]']           \n",
            "                                                                                                  \n",
            " block_13_expand_BN (BatchNorma  (None, 14, 14, 576)  2304       ['block_13_expand[0][0]']        \n",
            " lization)                                                                                        \n",
            "                                                                                                  \n",
            " block_13_expand_relu (ReLU)    (None, 14, 14, 576)  0           ['block_13_expand_BN[0][0]']     \n",
            "                                                                                                  \n",
            " block_13_pad (ZeroPadding2D)   (None, 15, 15, 576)  0           ['block_13_expand_relu[0][0]']   \n",
            "                                                                                                  \n",
            " block_13_depthwise (DepthwiseC  (None, 7, 7, 576)   5184        ['block_13_pad[0][0]']           \n",
            " onv2D)                                                                                           \n",
            "                                                                                                  \n",
            " block_13_depthwise_BN (BatchNo  (None, 7, 7, 576)   2304        ['block_13_depthwise[0][0]']     \n",
            " rmalization)                                                                                     \n",
            "                                                                                                  \n",
            " block_13_depthwise_relu (ReLU)  (None, 7, 7, 576)   0           ['block_13_depthwise_BN[0][0]']  \n",
            "                                                                                                  \n",
            " block_13_project (Conv2D)      (None, 7, 7, 160)    92160       ['block_13_depthwise_relu[0][0]']\n",
            "                                                                                                  \n",
            " block_13_project_BN (BatchNorm  (None, 7, 7, 160)   640         ['block_13_project[0][0]']       \n",
            " alization)                                                                                       \n",
            "                                                                                                  \n",
            " block_14_expand (Conv2D)       (None, 7, 7, 960)    153600      ['block_13_project_BN[0][0]']    \n",
            "                                                                                                  \n",
            " block_14_expand_BN (BatchNorma  (None, 7, 7, 960)   3840        ['block_14_expand[0][0]']        \n",
            " lization)                                                                                        \n",
            "                                                                                                  \n",
            " block_14_expand_relu (ReLU)    (None, 7, 7, 960)    0           ['block_14_expand_BN[0][0]']     \n",
            "                                                                                                  \n",
            " block_14_depthwise (DepthwiseC  (None, 7, 7, 960)   8640        ['block_14_expand_relu[0][0]']   \n",
            " onv2D)                                                                                           \n",
            "                                                                                                  \n",
            " block_14_depthwise_BN (BatchNo  (None, 7, 7, 960)   3840        ['block_14_depthwise[0][0]']     \n",
            " rmalization)                                                                                     \n",
            "                                                                                                  \n",
            " block_14_depthwise_relu (ReLU)  (None, 7, 7, 960)   0           ['block_14_depthwise_BN[0][0]']  \n",
            "                                                                                                  \n",
            " block_14_project (Conv2D)      (None, 7, 7, 160)    153600      ['block_14_depthwise_relu[0][0]']\n",
            "                                                                                                  \n",
            " block_14_project_BN (BatchNorm  (None, 7, 7, 160)   640         ['block_14_project[0][0]']       \n",
            " alization)                                                                                       \n",
            "                                                                                                  \n",
            " block_14_add (Add)             (None, 7, 7, 160)    0           ['block_13_project_BN[0][0]',    \n",
            "                                                                  'block_14_project_BN[0][0]']    \n",
            "                                                                                                  \n",
            " block_15_expand (Conv2D)       (None, 7, 7, 960)    153600      ['block_14_add[0][0]']           \n",
            "                                                                                                  \n",
            " block_15_expand_BN (BatchNorma  (None, 7, 7, 960)   3840        ['block_15_expand[0][0]']        \n",
            " lization)                                                                                        \n",
            "                                                                                                  \n",
            " block_15_expand_relu (ReLU)    (None, 7, 7, 960)    0           ['block_15_expand_BN[0][0]']     \n",
            "                                                                                                  \n",
            " block_15_depthwise (DepthwiseC  (None, 7, 7, 960)   8640        ['block_15_expand_relu[0][0]']   \n",
            " onv2D)                                                                                           \n",
            "                                                                                                  \n",
            " block_15_depthwise_BN (BatchNo  (None, 7, 7, 960)   3840        ['block_15_depthwise[0][0]']     \n",
            " rmalization)                                                                                     \n",
            "                                                                                                  \n",
            " block_15_depthwise_relu (ReLU)  (None, 7, 7, 960)   0           ['block_15_depthwise_BN[0][0]']  \n",
            "                                                                                                  \n",
            " block_15_project (Conv2D)      (None, 7, 7, 160)    153600      ['block_15_depthwise_relu[0][0]']\n",
            "                                                                                                  \n",
            " block_15_project_BN (BatchNorm  (None, 7, 7, 160)   640         ['block_15_project[0][0]']       \n",
            " alization)                                                                                       \n",
            "                                                                                                  \n",
            " block_15_add (Add)             (None, 7, 7, 160)    0           ['block_14_add[0][0]',           \n",
            "                                                                  'block_15_project_BN[0][0]']    \n",
            "                                                                                                  \n",
            " block_16_expand (Conv2D)       (None, 7, 7, 960)    153600      ['block_15_add[0][0]']           \n",
            "                                                                                                  \n",
            " block_16_expand_BN (BatchNorma  (None, 7, 7, 960)   3840        ['block_16_expand[0][0]']        \n",
            " lization)                                                                                        \n",
            "                                                                                                  \n",
            " block_16_expand_relu (ReLU)    (None, 7, 7, 960)    0           ['block_16_expand_BN[0][0]']     \n",
            "                                                                                                  \n",
            " block_16_depthwise (DepthwiseC  (None, 7, 7, 960)   8640        ['block_16_expand_relu[0][0]']   \n",
            " onv2D)                                                                                           \n",
            "                                                                                                  \n",
            " block_16_depthwise_BN (BatchNo  (None, 7, 7, 960)   3840        ['block_16_depthwise[0][0]']     \n",
            " rmalization)                                                                                     \n",
            "                                                                                                  \n",
            " block_16_depthwise_relu (ReLU)  (None, 7, 7, 960)   0           ['block_16_depthwise_BN[0][0]']  \n",
            "                                                                                                  \n",
            " block_16_project (Conv2D)      (None, 7, 7, 320)    307200      ['block_16_depthwise_relu[0][0]']\n",
            "                                                                                                  \n",
            " block_16_project_BN (BatchNorm  (None, 7, 7, 320)   1280        ['block_16_project[0][0]']       \n",
            " alization)                                                                                       \n",
            "                                                                                                  \n",
            " Conv_1 (Conv2D)                (None, 7, 7, 1280)   409600      ['block_16_project_BN[0][0]']    \n",
            "                                                                                                  \n",
            " Conv_1_bn (BatchNormalization)  (None, 7, 7, 1280)  5120        ['Conv_1[0][0]']                 \n",
            "                                                                                                  \n",
            " out_relu (ReLU)                (None, 7, 7, 1280)   0           ['Conv_1_bn[0][0]']              \n",
            "                                                                                                  \n",
            "==================================================================================================\n",
            "Total params: 2,257,984\n",
            "Trainable params: 2,223,872\n",
            "Non-trainable params: 34,112\n",
            "__________________________________________________________________________________________________\n"
          ]
        }
      ],
      "source": [
        "TL_base.summary()"
      ]
    },
    {
      "cell_type": "code",
      "execution_count": 11,
      "metadata": {
        "colab": {
          "base_uri": "https://localhost:8080/"
        },
        "id": "yT9JgWDFlOmg",
        "outputId": "f0e5bc82-704e-4d80-df5e-9a669e6f0470"
      },
      "outputs": [
        {
          "output_type": "execute_result",
          "data": {
            "text/plain": [
              "{'dtype': 'float32',\n",
              " 'max_value': array(6., dtype=float32),\n",
              " 'name': 'out_relu',\n",
              " 'negative_slope': array(0., dtype=float32),\n",
              " 'threshold': array(0., dtype=float32),\n",
              " 'trainable': True}"
            ]
          },
          "metadata": {},
          "execution_count": 11
        }
      ],
      "source": [
        "TL_base.layers[-1].get_config() # (7, 7, 1280)"
      ]
    },
    {
      "cell_type": "markdown",
      "metadata": {
        "id": "aTK2LziOl7te"
      },
      "source": [
        "**Sequential model**"
      ]
    },
    {
      "cell_type": "code",
      "execution_count": 12,
      "metadata": {
        "id": "8w0wZRC_mByA"
      },
      "outputs": [],
      "source": [
        "TL_base.trainable = False  # Use the representative features pretrained by resnet."
      ]
    },
    {
      "cell_type": "code",
      "execution_count": 13,
      "metadata": {
        "colab": {
          "base_uri": "https://localhost:8080/"
        },
        "id": "Mr1kqGs3-gd5",
        "outputId": "8d217c6d-ad46-4865-ee11-d2a0d7dbde2a"
      },
      "outputs": [
        {
          "output_type": "stream",
          "name": "stdout",
          "text": [
            "Model: \"model\"\n",
            "__________________________________________________________________________________________________\n",
            " Layer (type)                   Output Shape         Param #     Connected to                     \n",
            "==================================================================================================\n",
            " input_1 (InputLayer)           [(None, 224, 224, 3  0           []                               \n",
            "                                )]                                                                \n",
            "                                                                                                  \n",
            " Conv1 (Conv2D)                 (None, 112, 112, 32  864         ['input_1[0][0]']                \n",
            "                                )                                                                 \n",
            "                                                                                                  \n",
            " bn_Conv1 (BatchNormalization)  (None, 112, 112, 32  128         ['Conv1[0][0]']                  \n",
            "                                )                                                                 \n",
            "                                                                                                  \n",
            " Conv1_relu (ReLU)              (None, 112, 112, 32  0           ['bn_Conv1[0][0]']               \n",
            "                                )                                                                 \n",
            "                                                                                                  \n",
            " expanded_conv_depthwise (Depth  (None, 112, 112, 32  288        ['Conv1_relu[0][0]']             \n",
            " wiseConv2D)                    )                                                                 \n",
            "                                                                                                  \n",
            " expanded_conv_depthwise_BN (Ba  (None, 112, 112, 32  128        ['expanded_conv_depthwise[0][0]']\n",
            " tchNormalization)              )                                                                 \n",
            "                                                                                                  \n",
            " expanded_conv_depthwise_relu (  (None, 112, 112, 32  0          ['expanded_conv_depthwise_BN[0][0\n",
            " ReLU)                          )                                ]']                              \n",
            "                                                                                                  \n",
            " expanded_conv_project (Conv2D)  (None, 112, 112, 16  512        ['expanded_conv_depthwise_relu[0]\n",
            "                                )                                [0]']                            \n",
            "                                                                                                  \n",
            " expanded_conv_project_BN (Batc  (None, 112, 112, 16  64         ['expanded_conv_project[0][0]']  \n",
            " hNormalization)                )                                                                 \n",
            "                                                                                                  \n",
            " block_1_expand (Conv2D)        (None, 112, 112, 96  1536        ['expanded_conv_project_BN[0][0]'\n",
            "                                )                                ]                                \n",
            "                                                                                                  \n",
            " block_1_expand_BN (BatchNormal  (None, 112, 112, 96  384        ['block_1_expand[0][0]']         \n",
            " ization)                       )                                                                 \n",
            "                                                                                                  \n",
            " block_1_expand_relu (ReLU)     (None, 112, 112, 96  0           ['block_1_expand_BN[0][0]']      \n",
            "                                )                                                                 \n",
            "                                                                                                  \n",
            " block_1_pad (ZeroPadding2D)    (None, 113, 113, 96  0           ['block_1_expand_relu[0][0]']    \n",
            "                                )                                                                 \n",
            "                                                                                                  \n",
            " block_1_depthwise (DepthwiseCo  (None, 56, 56, 96)  864         ['block_1_pad[0][0]']            \n",
            " nv2D)                                                                                            \n",
            "                                                                                                  \n",
            " block_1_depthwise_BN (BatchNor  (None, 56, 56, 96)  384         ['block_1_depthwise[0][0]']      \n",
            " malization)                                                                                      \n",
            "                                                                                                  \n",
            " block_1_depthwise_relu (ReLU)  (None, 56, 56, 96)   0           ['block_1_depthwise_BN[0][0]']   \n",
            "                                                                                                  \n",
            " block_1_project (Conv2D)       (None, 56, 56, 24)   2304        ['block_1_depthwise_relu[0][0]'] \n",
            "                                                                                                  \n",
            " block_1_project_BN (BatchNorma  (None, 56, 56, 24)  96          ['block_1_project[0][0]']        \n",
            " lization)                                                                                        \n",
            "                                                                                                  \n",
            " block_2_expand (Conv2D)        (None, 56, 56, 144)  3456        ['block_1_project_BN[0][0]']     \n",
            "                                                                                                  \n",
            " block_2_expand_BN (BatchNormal  (None, 56, 56, 144)  576        ['block_2_expand[0][0]']         \n",
            " ization)                                                                                         \n",
            "                                                                                                  \n",
            " block_2_expand_relu (ReLU)     (None, 56, 56, 144)  0           ['block_2_expand_BN[0][0]']      \n",
            "                                                                                                  \n",
            " block_2_depthwise (DepthwiseCo  (None, 56, 56, 144)  1296       ['block_2_expand_relu[0][0]']    \n",
            " nv2D)                                                                                            \n",
            "                                                                                                  \n",
            " block_2_depthwise_BN (BatchNor  (None, 56, 56, 144)  576        ['block_2_depthwise[0][0]']      \n",
            " malization)                                                                                      \n",
            "                                                                                                  \n",
            " block_2_depthwise_relu (ReLU)  (None, 56, 56, 144)  0           ['block_2_depthwise_BN[0][0]']   \n",
            "                                                                                                  \n",
            " block_2_project (Conv2D)       (None, 56, 56, 24)   3456        ['block_2_depthwise_relu[0][0]'] \n",
            "                                                                                                  \n",
            " block_2_project_BN (BatchNorma  (None, 56, 56, 24)  96          ['block_2_project[0][0]']        \n",
            " lization)                                                                                        \n",
            "                                                                                                  \n",
            " block_2_add (Add)              (None, 56, 56, 24)   0           ['block_1_project_BN[0][0]',     \n",
            "                                                                  'block_2_project_BN[0][0]']     \n",
            "                                                                                                  \n",
            " block_3_expand (Conv2D)        (None, 56, 56, 144)  3456        ['block_2_add[0][0]']            \n",
            "                                                                                                  \n",
            " block_3_expand_BN (BatchNormal  (None, 56, 56, 144)  576        ['block_3_expand[0][0]']         \n",
            " ization)                                                                                         \n",
            "                                                                                                  \n",
            " block_3_expand_relu (ReLU)     (None, 56, 56, 144)  0           ['block_3_expand_BN[0][0]']      \n",
            "                                                                                                  \n",
            " block_3_pad (ZeroPadding2D)    (None, 57, 57, 144)  0           ['block_3_expand_relu[0][0]']    \n",
            "                                                                                                  \n",
            " block_3_depthwise (DepthwiseCo  (None, 28, 28, 144)  1296       ['block_3_pad[0][0]']            \n",
            " nv2D)                                                                                            \n",
            "                                                                                                  \n",
            " block_3_depthwise_BN (BatchNor  (None, 28, 28, 144)  576        ['block_3_depthwise[0][0]']      \n",
            " malization)                                                                                      \n",
            "                                                                                                  \n",
            " block_3_depthwise_relu (ReLU)  (None, 28, 28, 144)  0           ['block_3_depthwise_BN[0][0]']   \n",
            "                                                                                                  \n",
            " block_3_project (Conv2D)       (None, 28, 28, 32)   4608        ['block_3_depthwise_relu[0][0]'] \n",
            "                                                                                                  \n",
            " block_3_project_BN (BatchNorma  (None, 28, 28, 32)  128         ['block_3_project[0][0]']        \n",
            " lization)                                                                                        \n",
            "                                                                                                  \n",
            " block_4_expand (Conv2D)        (None, 28, 28, 192)  6144        ['block_3_project_BN[0][0]']     \n",
            "                                                                                                  \n",
            " block_4_expand_BN (BatchNormal  (None, 28, 28, 192)  768        ['block_4_expand[0][0]']         \n",
            " ization)                                                                                         \n",
            "                                                                                                  \n",
            " block_4_expand_relu (ReLU)     (None, 28, 28, 192)  0           ['block_4_expand_BN[0][0]']      \n",
            "                                                                                                  \n",
            " block_4_depthwise (DepthwiseCo  (None, 28, 28, 192)  1728       ['block_4_expand_relu[0][0]']    \n",
            " nv2D)                                                                                            \n",
            "                                                                                                  \n",
            " block_4_depthwise_BN (BatchNor  (None, 28, 28, 192)  768        ['block_4_depthwise[0][0]']      \n",
            " malization)                                                                                      \n",
            "                                                                                                  \n",
            " block_4_depthwise_relu (ReLU)  (None, 28, 28, 192)  0           ['block_4_depthwise_BN[0][0]']   \n",
            "                                                                                                  \n",
            " block_4_project (Conv2D)       (None, 28, 28, 32)   6144        ['block_4_depthwise_relu[0][0]'] \n",
            "                                                                                                  \n",
            " block_4_project_BN (BatchNorma  (None, 28, 28, 32)  128         ['block_4_project[0][0]']        \n",
            " lization)                                                                                        \n",
            "                                                                                                  \n",
            " block_4_add (Add)              (None, 28, 28, 32)   0           ['block_3_project_BN[0][0]',     \n",
            "                                                                  'block_4_project_BN[0][0]']     \n",
            "                                                                                                  \n",
            " block_5_expand (Conv2D)        (None, 28, 28, 192)  6144        ['block_4_add[0][0]']            \n",
            "                                                                                                  \n",
            " block_5_expand_BN (BatchNormal  (None, 28, 28, 192)  768        ['block_5_expand[0][0]']         \n",
            " ization)                                                                                         \n",
            "                                                                                                  \n",
            " block_5_expand_relu (ReLU)     (None, 28, 28, 192)  0           ['block_5_expand_BN[0][0]']      \n",
            "                                                                                                  \n",
            " block_5_depthwise (DepthwiseCo  (None, 28, 28, 192)  1728       ['block_5_expand_relu[0][0]']    \n",
            " nv2D)                                                                                            \n",
            "                                                                                                  \n",
            " block_5_depthwise_BN (BatchNor  (None, 28, 28, 192)  768        ['block_5_depthwise[0][0]']      \n",
            " malization)                                                                                      \n",
            "                                                                                                  \n",
            " block_5_depthwise_relu (ReLU)  (None, 28, 28, 192)  0           ['block_5_depthwise_BN[0][0]']   \n",
            "                                                                                                  \n",
            " block_5_project (Conv2D)       (None, 28, 28, 32)   6144        ['block_5_depthwise_relu[0][0]'] \n",
            "                                                                                                  \n",
            " block_5_project_BN (BatchNorma  (None, 28, 28, 32)  128         ['block_5_project[0][0]']        \n",
            " lization)                                                                                        \n",
            "                                                                                                  \n",
            " block_5_add (Add)              (None, 28, 28, 32)   0           ['block_4_add[0][0]',            \n",
            "                                                                  'block_5_project_BN[0][0]']     \n",
            "                                                                                                  \n",
            " block_6_expand (Conv2D)        (None, 28, 28, 192)  6144        ['block_5_add[0][0]']            \n",
            "                                                                                                  \n",
            " block_6_expand_BN (BatchNormal  (None, 28, 28, 192)  768        ['block_6_expand[0][0]']         \n",
            " ization)                                                                                         \n",
            "                                                                                                  \n",
            " block_6_expand_relu (ReLU)     (None, 28, 28, 192)  0           ['block_6_expand_BN[0][0]']      \n",
            "                                                                                                  \n",
            " block_6_pad (ZeroPadding2D)    (None, 29, 29, 192)  0           ['block_6_expand_relu[0][0]']    \n",
            "                                                                                                  \n",
            " block_6_depthwise (DepthwiseCo  (None, 14, 14, 192)  1728       ['block_6_pad[0][0]']            \n",
            " nv2D)                                                                                            \n",
            "                                                                                                  \n",
            " block_6_depthwise_BN (BatchNor  (None, 14, 14, 192)  768        ['block_6_depthwise[0][0]']      \n",
            " malization)                                                                                      \n",
            "                                                                                                  \n",
            " block_6_depthwise_relu (ReLU)  (None, 14, 14, 192)  0           ['block_6_depthwise_BN[0][0]']   \n",
            "                                                                                                  \n",
            " block_6_project (Conv2D)       (None, 14, 14, 64)   12288       ['block_6_depthwise_relu[0][0]'] \n",
            "                                                                                                  \n",
            " block_6_project_BN (BatchNorma  (None, 14, 14, 64)  256         ['block_6_project[0][0]']        \n",
            " lization)                                                                                        \n",
            "                                                                                                  \n",
            " block_7_expand (Conv2D)        (None, 14, 14, 384)  24576       ['block_6_project_BN[0][0]']     \n",
            "                                                                                                  \n",
            " block_7_expand_BN (BatchNormal  (None, 14, 14, 384)  1536       ['block_7_expand[0][0]']         \n",
            " ization)                                                                                         \n",
            "                                                                                                  \n",
            " block_7_expand_relu (ReLU)     (None, 14, 14, 384)  0           ['block_7_expand_BN[0][0]']      \n",
            "                                                                                                  \n",
            " block_7_depthwise (DepthwiseCo  (None, 14, 14, 384)  3456       ['block_7_expand_relu[0][0]']    \n",
            " nv2D)                                                                                            \n",
            "                                                                                                  \n",
            " block_7_depthwise_BN (BatchNor  (None, 14, 14, 384)  1536       ['block_7_depthwise[0][0]']      \n",
            " malization)                                                                                      \n",
            "                                                                                                  \n",
            " block_7_depthwise_relu (ReLU)  (None, 14, 14, 384)  0           ['block_7_depthwise_BN[0][0]']   \n",
            "                                                                                                  \n",
            " block_7_project (Conv2D)       (None, 14, 14, 64)   24576       ['block_7_depthwise_relu[0][0]'] \n",
            "                                                                                                  \n",
            " block_7_project_BN (BatchNorma  (None, 14, 14, 64)  256         ['block_7_project[0][0]']        \n",
            " lization)                                                                                        \n",
            "                                                                                                  \n",
            " block_7_add (Add)              (None, 14, 14, 64)   0           ['block_6_project_BN[0][0]',     \n",
            "                                                                  'block_7_project_BN[0][0]']     \n",
            "                                                                                                  \n",
            " block_8_expand (Conv2D)        (None, 14, 14, 384)  24576       ['block_7_add[0][0]']            \n",
            "                                                                                                  \n",
            " block_8_expand_BN (BatchNormal  (None, 14, 14, 384)  1536       ['block_8_expand[0][0]']         \n",
            " ization)                                                                                         \n",
            "                                                                                                  \n",
            " block_8_expand_relu (ReLU)     (None, 14, 14, 384)  0           ['block_8_expand_BN[0][0]']      \n",
            "                                                                                                  \n",
            " block_8_depthwise (DepthwiseCo  (None, 14, 14, 384)  3456       ['block_8_expand_relu[0][0]']    \n",
            " nv2D)                                                                                            \n",
            "                                                                                                  \n",
            " block_8_depthwise_BN (BatchNor  (None, 14, 14, 384)  1536       ['block_8_depthwise[0][0]']      \n",
            " malization)                                                                                      \n",
            "                                                                                                  \n",
            " block_8_depthwise_relu (ReLU)  (None, 14, 14, 384)  0           ['block_8_depthwise_BN[0][0]']   \n",
            "                                                                                                  \n",
            " block_8_project (Conv2D)       (None, 14, 14, 64)   24576       ['block_8_depthwise_relu[0][0]'] \n",
            "                                                                                                  \n",
            " block_8_project_BN (BatchNorma  (None, 14, 14, 64)  256         ['block_8_project[0][0]']        \n",
            " lization)                                                                                        \n",
            "                                                                                                  \n",
            " block_8_add (Add)              (None, 14, 14, 64)   0           ['block_7_add[0][0]',            \n",
            "                                                                  'block_8_project_BN[0][0]']     \n",
            "                                                                                                  \n",
            " block_9_expand (Conv2D)        (None, 14, 14, 384)  24576       ['block_8_add[0][0]']            \n",
            "                                                                                                  \n",
            " block_9_expand_BN (BatchNormal  (None, 14, 14, 384)  1536       ['block_9_expand[0][0]']         \n",
            " ization)                                                                                         \n",
            "                                                                                                  \n",
            " block_9_expand_relu (ReLU)     (None, 14, 14, 384)  0           ['block_9_expand_BN[0][0]']      \n",
            "                                                                                                  \n",
            " block_9_depthwise (DepthwiseCo  (None, 14, 14, 384)  3456       ['block_9_expand_relu[0][0]']    \n",
            " nv2D)                                                                                            \n",
            "                                                                                                  \n",
            " block_9_depthwise_BN (BatchNor  (None, 14, 14, 384)  1536       ['block_9_depthwise[0][0]']      \n",
            " malization)                                                                                      \n",
            "                                                                                                  \n",
            " block_9_depthwise_relu (ReLU)  (None, 14, 14, 384)  0           ['block_9_depthwise_BN[0][0]']   \n",
            "                                                                                                  \n",
            " block_9_project (Conv2D)       (None, 14, 14, 64)   24576       ['block_9_depthwise_relu[0][0]'] \n",
            "                                                                                                  \n",
            " block_9_project_BN (BatchNorma  (None, 14, 14, 64)  256         ['block_9_project[0][0]']        \n",
            " lization)                                                                                        \n",
            "                                                                                                  \n",
            " block_9_add (Add)              (None, 14, 14, 64)   0           ['block_8_add[0][0]',            \n",
            "                                                                  'block_9_project_BN[0][0]']     \n",
            "                                                                                                  \n",
            " block_10_expand (Conv2D)       (None, 14, 14, 384)  24576       ['block_9_add[0][0]']            \n",
            "                                                                                                  \n",
            " block_10_expand_BN (BatchNorma  (None, 14, 14, 384)  1536       ['block_10_expand[0][0]']        \n",
            " lization)                                                                                        \n",
            "                                                                                                  \n",
            " block_10_expand_relu (ReLU)    (None, 14, 14, 384)  0           ['block_10_expand_BN[0][0]']     \n",
            "                                                                                                  \n",
            " block_10_depthwise (DepthwiseC  (None, 14, 14, 384)  3456       ['block_10_expand_relu[0][0]']   \n",
            " onv2D)                                                                                           \n",
            "                                                                                                  \n",
            " block_10_depthwise_BN (BatchNo  (None, 14, 14, 384)  1536       ['block_10_depthwise[0][0]']     \n",
            " rmalization)                                                                                     \n",
            "                                                                                                  \n",
            " block_10_depthwise_relu (ReLU)  (None, 14, 14, 384)  0          ['block_10_depthwise_BN[0][0]']  \n",
            "                                                                                                  \n",
            " block_10_project (Conv2D)      (None, 14, 14, 96)   36864       ['block_10_depthwise_relu[0][0]']\n",
            "                                                                                                  \n",
            " block_10_project_BN (BatchNorm  (None, 14, 14, 96)  384         ['block_10_project[0][0]']       \n",
            " alization)                                                                                       \n",
            "                                                                                                  \n",
            " block_11_expand (Conv2D)       (None, 14, 14, 576)  55296       ['block_10_project_BN[0][0]']    \n",
            "                                                                                                  \n",
            " block_11_expand_BN (BatchNorma  (None, 14, 14, 576)  2304       ['block_11_expand[0][0]']        \n",
            " lization)                                                                                        \n",
            "                                                                                                  \n",
            " block_11_expand_relu (ReLU)    (None, 14, 14, 576)  0           ['block_11_expand_BN[0][0]']     \n",
            "                                                                                                  \n",
            " block_11_depthwise (DepthwiseC  (None, 14, 14, 576)  5184       ['block_11_expand_relu[0][0]']   \n",
            " onv2D)                                                                                           \n",
            "                                                                                                  \n",
            " block_11_depthwise_BN (BatchNo  (None, 14, 14, 576)  2304       ['block_11_depthwise[0][0]']     \n",
            " rmalization)                                                                                     \n",
            "                                                                                                  \n",
            " block_11_depthwise_relu (ReLU)  (None, 14, 14, 576)  0          ['block_11_depthwise_BN[0][0]']  \n",
            "                                                                                                  \n",
            " block_11_project (Conv2D)      (None, 14, 14, 96)   55296       ['block_11_depthwise_relu[0][0]']\n",
            "                                                                                                  \n",
            " block_11_project_BN (BatchNorm  (None, 14, 14, 96)  384         ['block_11_project[0][0]']       \n",
            " alization)                                                                                       \n",
            "                                                                                                  \n",
            " block_11_add (Add)             (None, 14, 14, 96)   0           ['block_10_project_BN[0][0]',    \n",
            "                                                                  'block_11_project_BN[0][0]']    \n",
            "                                                                                                  \n",
            " block_12_expand (Conv2D)       (None, 14, 14, 576)  55296       ['block_11_add[0][0]']           \n",
            "                                                                                                  \n",
            " block_12_expand_BN (BatchNorma  (None, 14, 14, 576)  2304       ['block_12_expand[0][0]']        \n",
            " lization)                                                                                        \n",
            "                                                                                                  \n",
            " block_12_expand_relu (ReLU)    (None, 14, 14, 576)  0           ['block_12_expand_BN[0][0]']     \n",
            "                                                                                                  \n",
            " block_12_depthwise (DepthwiseC  (None, 14, 14, 576)  5184       ['block_12_expand_relu[0][0]']   \n",
            " onv2D)                                                                                           \n",
            "                                                                                                  \n",
            " block_12_depthwise_BN (BatchNo  (None, 14, 14, 576)  2304       ['block_12_depthwise[0][0]']     \n",
            " rmalization)                                                                                     \n",
            "                                                                                                  \n",
            " block_12_depthwise_relu (ReLU)  (None, 14, 14, 576)  0          ['block_12_depthwise_BN[0][0]']  \n",
            "                                                                                                  \n",
            " block_12_project (Conv2D)      (None, 14, 14, 96)   55296       ['block_12_depthwise_relu[0][0]']\n",
            "                                                                                                  \n",
            " block_12_project_BN (BatchNorm  (None, 14, 14, 96)  384         ['block_12_project[0][0]']       \n",
            " alization)                                                                                       \n",
            "                                                                                                  \n",
            " block_12_add (Add)             (None, 14, 14, 96)   0           ['block_11_add[0][0]',           \n",
            "                                                                  'block_12_project_BN[0][0]']    \n",
            "                                                                                                  \n",
            " block_13_expand (Conv2D)       (None, 14, 14, 576)  55296       ['block_12_add[0][0]']           \n",
            "                                                                                                  \n",
            " block_13_expand_BN (BatchNorma  (None, 14, 14, 576)  2304       ['block_13_expand[0][0]']        \n",
            " lization)                                                                                        \n",
            "                                                                                                  \n",
            " block_13_expand_relu (ReLU)    (None, 14, 14, 576)  0           ['block_13_expand_BN[0][0]']     \n",
            "                                                                                                  \n",
            " block_13_pad (ZeroPadding2D)   (None, 15, 15, 576)  0           ['block_13_expand_relu[0][0]']   \n",
            "                                                                                                  \n",
            " block_13_depthwise (DepthwiseC  (None, 7, 7, 576)   5184        ['block_13_pad[0][0]']           \n",
            " onv2D)                                                                                           \n",
            "                                                                                                  \n",
            " block_13_depthwise_BN (BatchNo  (None, 7, 7, 576)   2304        ['block_13_depthwise[0][0]']     \n",
            " rmalization)                                                                                     \n",
            "                                                                                                  \n",
            " block_13_depthwise_relu (ReLU)  (None, 7, 7, 576)   0           ['block_13_depthwise_BN[0][0]']  \n",
            "                                                                                                  \n",
            " block_13_project (Conv2D)      (None, 7, 7, 160)    92160       ['block_13_depthwise_relu[0][0]']\n",
            "                                                                                                  \n",
            " block_13_project_BN (BatchNorm  (None, 7, 7, 160)   640         ['block_13_project[0][0]']       \n",
            " alization)                                                                                       \n",
            "                                                                                                  \n",
            " block_14_expand (Conv2D)       (None, 7, 7, 960)    153600      ['block_13_project_BN[0][0]']    \n",
            "                                                                                                  \n",
            " block_14_expand_BN (BatchNorma  (None, 7, 7, 960)   3840        ['block_14_expand[0][0]']        \n",
            " lization)                                                                                        \n",
            "                                                                                                  \n",
            " block_14_expand_relu (ReLU)    (None, 7, 7, 960)    0           ['block_14_expand_BN[0][0]']     \n",
            "                                                                                                  \n",
            " block_14_depthwise (DepthwiseC  (None, 7, 7, 960)   8640        ['block_14_expand_relu[0][0]']   \n",
            " onv2D)                                                                                           \n",
            "                                                                                                  \n",
            " block_14_depthwise_BN (BatchNo  (None, 7, 7, 960)   3840        ['block_14_depthwise[0][0]']     \n",
            " rmalization)                                                                                     \n",
            "                                                                                                  \n",
            " block_14_depthwise_relu (ReLU)  (None, 7, 7, 960)   0           ['block_14_depthwise_BN[0][0]']  \n",
            "                                                                                                  \n",
            " block_14_project (Conv2D)      (None, 7, 7, 160)    153600      ['block_14_depthwise_relu[0][0]']\n",
            "                                                                                                  \n",
            " block_14_project_BN (BatchNorm  (None, 7, 7, 160)   640         ['block_14_project[0][0]']       \n",
            " alization)                                                                                       \n",
            "                                                                                                  \n",
            " block_14_add (Add)             (None, 7, 7, 160)    0           ['block_13_project_BN[0][0]',    \n",
            "                                                                  'block_14_project_BN[0][0]']    \n",
            "                                                                                                  \n",
            " block_15_expand (Conv2D)       (None, 7, 7, 960)    153600      ['block_14_add[0][0]']           \n",
            "                                                                                                  \n",
            " block_15_expand_BN (BatchNorma  (None, 7, 7, 960)   3840        ['block_15_expand[0][0]']        \n",
            " lization)                                                                                        \n",
            "                                                                                                  \n",
            " block_15_expand_relu (ReLU)    (None, 7, 7, 960)    0           ['block_15_expand_BN[0][0]']     \n",
            "                                                                                                  \n",
            " block_15_depthwise (DepthwiseC  (None, 7, 7, 960)   8640        ['block_15_expand_relu[0][0]']   \n",
            " onv2D)                                                                                           \n",
            "                                                                                                  \n",
            " block_15_depthwise_BN (BatchNo  (None, 7, 7, 960)   3840        ['block_15_depthwise[0][0]']     \n",
            " rmalization)                                                                                     \n",
            "                                                                                                  \n",
            " block_15_depthwise_relu (ReLU)  (None, 7, 7, 960)   0           ['block_15_depthwise_BN[0][0]']  \n",
            "                                                                                                  \n",
            " block_15_project (Conv2D)      (None, 7, 7, 160)    153600      ['block_15_depthwise_relu[0][0]']\n",
            "                                                                                                  \n",
            " block_15_project_BN (BatchNorm  (None, 7, 7, 160)   640         ['block_15_project[0][0]']       \n",
            " alization)                                                                                       \n",
            "                                                                                                  \n",
            " block_15_add (Add)             (None, 7, 7, 160)    0           ['block_14_add[0][0]',           \n",
            "                                                                  'block_15_project_BN[0][0]']    \n",
            "                                                                                                  \n",
            " block_16_expand (Conv2D)       (None, 7, 7, 960)    153600      ['block_15_add[0][0]']           \n",
            "                                                                                                  \n",
            " block_16_expand_BN (BatchNorma  (None, 7, 7, 960)   3840        ['block_16_expand[0][0]']        \n",
            " lization)                                                                                        \n",
            "                                                                                                  \n",
            " block_16_expand_relu (ReLU)    (None, 7, 7, 960)    0           ['block_16_expand_BN[0][0]']     \n",
            "                                                                                                  \n",
            " block_16_depthwise (DepthwiseC  (None, 7, 7, 960)   8640        ['block_16_expand_relu[0][0]']   \n",
            " onv2D)                                                                                           \n",
            "                                                                                                  \n",
            " block_16_depthwise_BN (BatchNo  (None, 7, 7, 960)   3840        ['block_16_depthwise[0][0]']     \n",
            " rmalization)                                                                                     \n",
            "                                                                                                  \n",
            " block_16_depthwise_relu (ReLU)  (None, 7, 7, 960)   0           ['block_16_depthwise_BN[0][0]']  \n",
            "                                                                                                  \n",
            " block_16_project (Conv2D)      (None, 7, 7, 320)    307200      ['block_16_depthwise_relu[0][0]']\n",
            "                                                                                                  \n",
            " block_16_project_BN (BatchNorm  (None, 7, 7, 320)   1280        ['block_16_project[0][0]']       \n",
            " alization)                                                                                       \n",
            "                                                                                                  \n",
            "==================================================================================================\n",
            "Total params: 1,843,264\n",
            "Trainable params: 0\n",
            "Non-trainable params: 1,843,264\n",
            "__________________________________________________________________________________________________\n"
          ]
        }
      ],
      "source": [
        "TL_base = models.Model(TL_base.input, TL_base.layers[-4].output)\n",
        "TL_base.summary()"
      ]
    },
    {
      "cell_type": "code",
      "execution_count": 14,
      "metadata": {
        "id": "BO0e51Z5mDNc",
        "colab": {
          "base_uri": "https://localhost:8080/"
        },
        "outputId": "280142d1-4f2e-4e24-ce66-8e12e0873093"
      },
      "outputs": [
        {
          "output_type": "stream",
          "name": "stderr",
          "text": [
            "/usr/local/lib/python3.7/dist-packages/keras/optimizer_v2/gradient_descent.py:102: UserWarning: The `lr` argument is deprecated, use `learning_rate` instead.\n",
            "  super(SGD, self).__init__(name, **kwargs)\n"
          ]
        }
      ],
      "source": [
        "ko = tf.keras.optimizers.SGD(lr=0.0001,momentum=0.9) # Adam -> SGD 변경\n",
        "\n",
        "input_tensor = layers.Input(shape=(32,32,3))\n",
        "#이미지 리사이즈\n",
        "up1 = tf.image.resize(input_tensor,(224,224))\n",
        "\n",
        "#skip connection \n",
        "ori_img = tf.image.resize(input_tensor,(7,7))\n",
        "\n",
        "#pretrain모델 불러오기\n",
        "base_mob = TL_base(up1)\n",
        "\n",
        "\n",
        "def conv_model2(base_mob,ori_img):\n",
        "  act0 = tf.nn.relu(base_mob)\n",
        "  conv1 = layers.Conv2D(10, 7, padding='same')(act0)\n",
        "  BN1 = layers.BatchNormalization()(conv1)\n",
        "  act1 = tf.nn.relu(BN1)\n",
        "\n",
        "  concat = layers.concatenate([ori_img, act1], axis=3)\n",
        "\n",
        "\n",
        "  average_pool = layers.GlobalAveragePooling2D()(concat)\n",
        "\n",
        "  TL_1 = layers.Flatten()(average_pool)\n",
        "\n",
        "  TL_2 = layers.Dense(64,activation='relu')(TL_1)\n",
        "  # drop1 = layers.Dropout(0.2)(TL_2)\n",
        "  TL_3 = layers.Dense(32,activation='relu')(TL_2)\n",
        "  output_tensor = layers.Dense(10,activation='softmax')(TL_3)\n",
        "\n",
        "  return output_tensor\n",
        "\n",
        "\n",
        "\n",
        "def dense_model(base_mob):\n",
        "\n",
        "  TL_0 = layers.GlobalAveragePooling2D()(base_mob)\n",
        "  TL_1 = layers.Flatten()(TL_0)\n",
        "  \n",
        "  TL_2 = layers.Dense(4096,activation='relu')(TL_1)\n",
        "  drop1 = layers.Dropout(0.3)(TL_2)\n",
        "  TL_3 = layers.Dense(2048,activation='relu')(drop1)\n",
        "  drop2 = layers.Dropout(0.3)(TL_3)\n",
        "  TL_4 = layers.Dense(1024,activation='relu')(drop2)\n",
        "  drop3 = layers.Dropout(0.2)(TL_4)  \n",
        "  TL_5 = layers.Dense(512,activation='relu')(drop3)\n",
        "  drop4 = layers.Dropout(0.2)(TL_5)  \n",
        "  TL_6 = layers.Dense(256,activation='relu')(drop4)\n",
        "  drop5 = layers.Dropout(0.2)(TL_6)\n",
        "  TL_7 = layers.Dense(128,activation='relu')(drop5)\n",
        "  output_tensor = layers.Dense(10,activation='softmax')(TL_7)\n",
        "\n",
        "  return output_tensor\n",
        "\n",
        "\n",
        "\n",
        "#output_tensor = average_pool_model(base_mob)\n",
        "#output_tensor = conv_model(base_mob,ori_img)\n",
        "#output_tensor = conv_model3(base_mob,ori_img)\n",
        "#output_tensor = conv_model5(base_mob,ori_img)\n",
        "\n",
        "#best\n",
        "output_tensor = conv_model2(base_mob,ori_img)\n",
        "#output_tensor = dense_model(base_mob)\n",
        "model = models.Model(input_tensor, output_tensor)\n",
        "\n",
        "\n",
        "\n",
        "\n",
        "\n"
      ]
    },
    {
      "cell_type": "code",
      "execution_count": 15,
      "metadata": {
        "colab": {
          "base_uri": "https://localhost:8080/"
        },
        "id": "zq4rcwwLnLPT",
        "outputId": "9d833a16-5e98-43fe-a4ac-b4992fb23f5e"
      },
      "outputs": [
        {
          "output_type": "stream",
          "name": "stdout",
          "text": [
            "Model: \"model_1\"\n",
            "__________________________________________________________________________________________________\n",
            " Layer (type)                   Output Shape         Param #     Connected to                     \n",
            "==================================================================================================\n",
            " input_2 (InputLayer)           [(None, 32, 32, 3)]  0           []                               \n",
            "                                                                                                  \n",
            " tf.image.resize (TFOpLambda)   (None, 224, 224, 3)  0           ['input_2[0][0]']                \n",
            "                                                                                                  \n",
            " model (Functional)             (None, 7, 7, 320)    1843264     ['tf.image.resize[0][0]']        \n",
            "                                                                                                  \n",
            " tf.nn.relu (TFOpLambda)        (None, 7, 7, 320)    0           ['model[0][0]']                  \n",
            "                                                                                                  \n",
            " conv2d (Conv2D)                (None, 7, 7, 10)     156810      ['tf.nn.relu[0][0]']             \n",
            "                                                                                                  \n",
            " batch_normalization (BatchNorm  (None, 7, 7, 10)    40          ['conv2d[0][0]']                 \n",
            " alization)                                                                                       \n",
            "                                                                                                  \n",
            " tf.image.resize_1 (TFOpLambda)  (None, 7, 7, 3)     0           ['input_2[0][0]']                \n",
            "                                                                                                  \n",
            " tf.nn.relu_1 (TFOpLambda)      (None, 7, 7, 10)     0           ['batch_normalization[0][0]']    \n",
            "                                                                                                  \n",
            " concatenate (Concatenate)      (None, 7, 7, 13)     0           ['tf.image.resize_1[0][0]',      \n",
            "                                                                  'tf.nn.relu_1[0][0]']           \n",
            "                                                                                                  \n",
            " global_average_pooling2d (Glob  (None, 13)          0           ['concatenate[0][0]']            \n",
            " alAveragePooling2D)                                                                              \n",
            "                                                                                                  \n",
            " flatten (Flatten)              (None, 13)           0           ['global_average_pooling2d[0][0]'\n",
            "                                                                 ]                                \n",
            "                                                                                                  \n",
            " dense (Dense)                  (None, 64)           896         ['flatten[0][0]']                \n",
            "                                                                                                  \n",
            " dense_1 (Dense)                (None, 32)           2080        ['dense[0][0]']                  \n",
            "                                                                                                  \n",
            " dense_2 (Dense)                (None, 10)           330         ['dense_1[0][0]']                \n",
            "                                                                                                  \n",
            "==================================================================================================\n",
            "Total params: 2,003,420\n",
            "Trainable params: 160,136\n",
            "Non-trainable params: 1,843,284\n",
            "__________________________________________________________________________________________________\n"
          ]
        }
      ],
      "source": [
        "model.summary()"
      ]
    },
    {
      "cell_type": "code",
      "execution_count": 16,
      "metadata": {
        "colab": {
          "base_uri": "https://localhost:8080/",
          "height": 1000
        },
        "id": "Sz-nFuj1nNuq",
        "outputId": "334d6b3a-366b-4ced-ade3-8cfe1d208d16"
      },
      "outputs": [
        {
          "output_type": "execute_result",
          "data": {
            "image/png": "[encoded data removed]",
            "text/plain": [
              "<IPython.core.display.Image object>"
            ]
          },
          "metadata": {},
          "execution_count": 16
        }
      ],
      "source": [
        "# Plot model\n",
        "from tensorflow.keras.utils import plot_model\n",
        "plot_model(model, show_shapes=True, show_layer_names=True, to_file='model_S.png')"
      ]
    },
    {
      "cell_type": "code",
      "execution_count": 17,
      "metadata": {
        "id": "zpgfQ2_JnSFZ"
      },
      "outputs": [],
      "source": [
        "from tensorflow.keras import layers, models, callbacks"
      ]
    },
    {
      "cell_type": "code",
      "execution_count": 18,
      "metadata": {
        "id": "odDl4a2EnS1W"
      },
      "outputs": [],
      "source": [
        "mc_callback = callbacks.ModelCheckpoint(filepath=\"./best_model.hdf5\", \n",
        "                              monitor='val_accuracy', verbose=0, save_best_only=True)\n",
        "es_callback = callbacks.EarlyStopping(monitor='val_accuracy', \n",
        "                            mode='max', verbose=1, patience=15)\n",
        "model.compile(optimizer = ko , loss='categorical_crossentropy', metrics = ['accuracy'])"
      ]
    },
    {
      "cell_type": "code",
      "execution_count": 19,
      "metadata": {
        "id": "6OwZ9Iehvnqd",
        "colab": {
          "base_uri": "https://localhost:8080/"
        },
        "outputId": "a823f302-e719-45a4-a8bf-ca551507c20b"
      },
      "outputs": [
        {
          "output_type": "stream",
          "name": "stdout",
          "text": [
            "Epoch 1/1000\n",
            "313/313 [==============================] - ETA: 0s - loss: 2.2263 - accuracy: 0.1552"
          ]
        },
        {
          "output_type": "stream",
          "name": "stderr",
          "text": [
            "/usr/local/lib/python3.7/dist-packages/keras/engine/functional.py:1410: CustomMaskWarning: Custom mask layers require a config and must override get_config. When loading, the custom mask layer must be passed to the custom_objects argument.\n",
            "  layer_config = serialize_layer_fn(layer)\n"
          ]
        },
        {
          "output_type": "stream",
          "name": "stdout",
          "text": [
            "313/313 [==============================] - 82s 220ms/step - loss: 2.2263 - accuracy: 0.1552 - val_loss: 2.1541 - val_accuracy: 0.1562\n",
            "Epoch 2/1000\n",
            "313/313 [==============================] - 67s 215ms/step - loss: 2.1477 - accuracy: 0.1998 - val_loss: 2.0770 - val_accuracy: 0.1993\n",
            "Epoch 3/1000\n",
            "313/313 [==============================] - 50s 159ms/step - loss: 2.0931 - accuracy: 0.2555 - val_loss: 2.0178 - val_accuracy: 0.2670\n",
            "Epoch 4/1000\n",
            "313/313 [==============================] - 67s 214ms/step - loss: 2.0445 - accuracy: 0.3114 - val_loss: 1.9678 - val_accuracy: 0.3263\n",
            "Epoch 5/1000\n",
            "313/313 [==============================] - 50s 159ms/step - loss: 2.0037 - accuracy: 0.3500 - val_loss: 1.9209 - val_accuracy: 0.3751\n",
            "Epoch 6/1000\n",
            "313/313 [==============================] - 50s 159ms/step - loss: 1.9592 - accuracy: 0.3919 - val_loss: 1.8727 - val_accuracy: 0.4082\n",
            "Epoch 7/1000\n",
            "313/313 [==============================] - 50s 160ms/step - loss: 1.9160 - accuracy: 0.4220 - val_loss: 1.8238 - val_accuracy: 0.4276\n",
            "Epoch 8/1000\n",
            "313/313 [==============================] - 67s 215ms/step - loss: 1.8735 - accuracy: 0.4407 - val_loss: 1.7725 - val_accuracy: 0.4597\n",
            "Epoch 9/1000\n",
            "313/313 [==============================] - 49s 158ms/step - loss: 1.8276 - accuracy: 0.4694 - val_loss: 1.7193 - val_accuracy: 0.4844\n",
            "Epoch 10/1000\n",
            "313/313 [==============================] - 49s 157ms/step - loss: 1.7806 - accuracy: 0.4908 - val_loss: 1.6647 - val_accuracy: 0.5108\n",
            "Epoch 11/1000\n",
            "313/313 [==============================] - 49s 158ms/step - loss: 1.7288 - accuracy: 0.5098 - val_loss: 1.6065 - val_accuracy: 0.5358\n",
            "Epoch 12/1000\n",
            "313/313 [==============================] - 49s 157ms/step - loss: 1.6803 - accuracy: 0.5270 - val_loss: 1.5536 - val_accuracy: 0.5518\n",
            "Epoch 13/1000\n",
            "313/313 [==============================] - 49s 158ms/step - loss: 1.6263 - accuracy: 0.5425 - val_loss: 1.4917 - val_accuracy: 0.5681\n",
            "Epoch 14/1000\n",
            "313/313 [==============================] - 49s 158ms/step - loss: 1.5783 - accuracy: 0.5559 - val_loss: 1.4395 - val_accuracy: 0.5767\n",
            "Epoch 15/1000\n",
            "313/313 [==============================] - 50s 159ms/step - loss: 1.5264 - accuracy: 0.5643 - val_loss: 1.3826 - val_accuracy: 0.5874\n",
            "Epoch 16/1000\n",
            "313/313 [==============================] - 50s 159ms/step - loss: 1.4755 - accuracy: 0.5760 - val_loss: 1.3330 - val_accuracy: 0.5917\n",
            "Epoch 17/1000\n",
            "313/313 [==============================] - 49s 158ms/step - loss: 1.4270 - accuracy: 0.5815 - val_loss: 1.2824 - val_accuracy: 0.6022\n",
            "Epoch 18/1000\n",
            "313/313 [==============================] - 50s 159ms/step - loss: 1.3788 - accuracy: 0.5902 - val_loss: 1.2376 - val_accuracy: 0.6094\n",
            "Epoch 19/1000\n",
            "313/313 [==============================] - 50s 159ms/step - loss: 1.3303 - accuracy: 0.6041 - val_loss: 1.1969 - val_accuracy: 0.6175\n",
            "Epoch 20/1000\n",
            "313/313 [==============================] - 49s 158ms/step - loss: 1.2844 - accuracy: 0.6157 - val_loss: 1.1536 - val_accuracy: 0.6295\n",
            "Epoch 21/1000\n",
            "313/313 [==============================] - 49s 158ms/step - loss: 1.2442 - accuracy: 0.6247 - val_loss: 1.1155 - val_accuracy: 0.6404\n",
            "Epoch 22/1000\n",
            "313/313 [==============================] - 49s 158ms/step - loss: 1.2069 - accuracy: 0.6360 - val_loss: 1.0847 - val_accuracy: 0.6448\n",
            "Epoch 23/1000\n",
            "313/313 [==============================] - 67s 215ms/step - loss: 1.1716 - accuracy: 0.6430 - val_loss: 1.0518 - val_accuracy: 0.6610\n",
            "Epoch 24/1000\n",
            "313/313 [==============================] - 49s 158ms/step - loss: 1.1295 - accuracy: 0.6565 - val_loss: 1.0320 - val_accuracy: 0.6637\n",
            "Epoch 25/1000\n",
            "313/313 [==============================] - 50s 158ms/step - loss: 1.0993 - accuracy: 0.6613 - val_loss: 0.9954 - val_accuracy: 0.6776\n",
            "Epoch 26/1000\n",
            "313/313 [==============================] - 49s 158ms/step - loss: 1.0610 - accuracy: 0.6814 - val_loss: 0.9772 - val_accuracy: 0.6795\n",
            "Epoch 27/1000\n",
            "313/313 [==============================] - 50s 159ms/step - loss: 1.0352 - accuracy: 0.6809 - val_loss: 0.9592 - val_accuracy: 0.6842\n",
            "Epoch 28/1000\n",
            "313/313 [==============================] - 49s 158ms/step - loss: 1.0075 - accuracy: 0.6870 - val_loss: 0.9287 - val_accuracy: 0.6948\n",
            "Epoch 29/1000\n",
            "313/313 [==============================] - 49s 158ms/step - loss: 0.9811 - accuracy: 0.6982 - val_loss: 0.9151 - val_accuracy: 0.7003\n",
            "Epoch 30/1000\n",
            "313/313 [==============================] - 49s 158ms/step - loss: 0.9593 - accuracy: 0.6951 - val_loss: 0.8990 - val_accuracy: 0.7019\n",
            "Epoch 31/1000\n",
            "313/313 [==============================] - 49s 158ms/step - loss: 0.9349 - accuracy: 0.7091 - val_loss: 0.8896 - val_accuracy: 0.7041\n",
            "Epoch 32/1000\n",
            "313/313 [==============================] - 67s 214ms/step - loss: 0.9155 - accuracy: 0.7093 - val_loss: 0.8797 - val_accuracy: 0.7058\n",
            "Epoch 33/1000\n",
            "313/313 [==============================] - 49s 158ms/step - loss: 0.8928 - accuracy: 0.7158 - val_loss: 0.8699 - val_accuracy: 0.7094\n",
            "Epoch 34/1000\n",
            "313/313 [==============================] - 49s 158ms/step - loss: 0.8767 - accuracy: 0.7198 - val_loss: 0.8549 - val_accuracy: 0.7104\n",
            "Epoch 35/1000\n",
            "313/313 [==============================] - 49s 157ms/step - loss: 0.8571 - accuracy: 0.7257 - val_loss: 0.8588 - val_accuracy: 0.7079\n",
            "Epoch 36/1000\n",
            "313/313 [==============================] - 49s 157ms/step - loss: 0.8442 - accuracy: 0.7292 - val_loss: 0.8545 - val_accuracy: 0.7089\n",
            "Epoch 37/1000\n",
            "313/313 [==============================] - 67s 215ms/step - loss: 0.8302 - accuracy: 0.7305 - val_loss: 0.8518 - val_accuracy: 0.7113\n",
            "Epoch 38/1000\n",
            "313/313 [==============================] - 49s 158ms/step - loss: 0.8123 - accuracy: 0.7363 - val_loss: 0.8255 - val_accuracy: 0.7176\n",
            "Epoch 39/1000\n",
            "313/313 [==============================] - 49s 157ms/step - loss: 0.7980 - accuracy: 0.7410 - val_loss: 0.8333 - val_accuracy: 0.7151\n",
            "Epoch 40/1000\n",
            "313/313 [==============================] - 49s 157ms/step - loss: 0.7846 - accuracy: 0.7419 - val_loss: 0.8355 - val_accuracy: 0.7156\n",
            "Epoch 41/1000\n",
            "313/313 [==============================] - 49s 158ms/step - loss: 0.7772 - accuracy: 0.7436 - val_loss: 0.8176 - val_accuracy: 0.7192\n",
            "Epoch 42/1000\n",
            "313/313 [==============================] - 49s 157ms/step - loss: 0.7684 - accuracy: 0.7489 - val_loss: 0.8411 - val_accuracy: 0.7141\n",
            "Epoch 43/1000\n",
            "313/313 [==============================] - 49s 158ms/step - loss: 0.7517 - accuracy: 0.7559 - val_loss: 0.8118 - val_accuracy: 0.7227\n",
            "Epoch 44/1000\n",
            "313/313 [==============================] - 49s 157ms/step - loss: 0.7399 - accuracy: 0.7572 - val_loss: 0.8298 - val_accuracy: 0.7208\n",
            "Epoch 45/1000\n",
            "313/313 [==============================] - 49s 157ms/step - loss: 0.7278 - accuracy: 0.7587 - val_loss: 0.8237 - val_accuracy: 0.7145\n",
            "Epoch 46/1000\n",
            "313/313 [==============================] - 48s 155ms/step - loss: 0.7155 - accuracy: 0.7616 - val_loss: 0.8328 - val_accuracy: 0.7161\n",
            "Epoch 47/1000\n",
            "313/313 [==============================] - 49s 155ms/step - loss: 0.7059 - accuracy: 0.7671 - val_loss: 0.8178 - val_accuracy: 0.7168\n",
            "Epoch 48/1000\n",
            "313/313 [==============================] - 49s 155ms/step - loss: 0.6977 - accuracy: 0.7674 - val_loss: 0.8178 - val_accuracy: 0.7200\n",
            "Epoch 49/1000\n",
            "313/313 [==============================] - 49s 158ms/step - loss: 0.6813 - accuracy: 0.7778 - val_loss: 0.8178 - val_accuracy: 0.7235\n",
            "Epoch 50/1000\n",
            "313/313 [==============================] - 48s 155ms/step - loss: 0.6746 - accuracy: 0.7797 - val_loss: 0.8393 - val_accuracy: 0.7183\n",
            "Epoch 51/1000\n",
            "313/313 [==============================] - 49s 156ms/step - loss: 0.6649 - accuracy: 0.7795 - val_loss: 0.8107 - val_accuracy: 0.7225\n",
            "Epoch 52/1000\n",
            "313/313 [==============================] - 49s 157ms/step - loss: 0.6510 - accuracy: 0.7868 - val_loss: 0.8180 - val_accuracy: 0.7238\n",
            "Epoch 53/1000\n",
            "313/313 [==============================] - 49s 157ms/step - loss: 0.6476 - accuracy: 0.7856 - val_loss: 0.8165 - val_accuracy: 0.7255\n",
            "Epoch 54/1000\n",
            "313/313 [==============================] - 49s 156ms/step - loss: 0.6355 - accuracy: 0.7921 - val_loss: 0.8271 - val_accuracy: 0.7201\n",
            "Epoch 55/1000\n",
            "313/313 [==============================] - 49s 156ms/step - loss: 0.6334 - accuracy: 0.7903 - val_loss: 0.8196 - val_accuracy: 0.7239\n",
            "Epoch 56/1000\n",
            "313/313 [==============================] - 66s 213ms/step - loss: 0.6220 - accuracy: 0.7953 - val_loss: 0.8255 - val_accuracy: 0.7201\n",
            "Epoch 57/1000\n",
            "313/313 [==============================] - 49s 156ms/step - loss: 0.6135 - accuracy: 0.7983 - val_loss: 0.8449 - val_accuracy: 0.7178\n",
            "Epoch 58/1000\n",
            "313/313 [==============================] - 48s 155ms/step - loss: 0.5991 - accuracy: 0.8033 - val_loss: 0.8389 - val_accuracy: 0.7215\n",
            "Epoch 59/1000\n",
            "313/313 [==============================] - 49s 155ms/step - loss: 0.5925 - accuracy: 0.8071 - val_loss: 0.8188 - val_accuracy: 0.7228\n",
            "Epoch 60/1000\n",
            "313/313 [==============================] - 48s 155ms/step - loss: 0.5830 - accuracy: 0.8078 - val_loss: 0.8348 - val_accuracy: 0.7238\n",
            "Epoch 61/1000\n",
            "313/313 [==============================] - 49s 157ms/step - loss: 0.5740 - accuracy: 0.8117 - val_loss: 0.8272 - val_accuracy: 0.7252\n",
            "Epoch 62/1000\n",
            "313/313 [==============================] - 49s 156ms/step - loss: 0.5652 - accuracy: 0.8147 - val_loss: 0.8563 - val_accuracy: 0.7198\n",
            "Epoch 63/1000\n",
            "313/313 [==============================] - 49s 158ms/step - loss: 0.5571 - accuracy: 0.8177 - val_loss: 0.8239 - val_accuracy: 0.7285\n",
            "Epoch 64/1000\n",
            "313/313 [==============================] - 49s 157ms/step - loss: 0.5557 - accuracy: 0.8164 - val_loss: 0.8366 - val_accuracy: 0.7215\n",
            "Epoch 65/1000\n",
            "313/313 [==============================] - 49s 157ms/step - loss: 0.5525 - accuracy: 0.8232 - val_loss: 0.8507 - val_accuracy: 0.7173\n",
            "Epoch 66/1000\n",
            "313/313 [==============================] - 49s 156ms/step - loss: 0.5419 - accuracy: 0.8223 - val_loss: 0.8406 - val_accuracy: 0.7270\n",
            "Epoch 67/1000\n",
            "313/313 [==============================] - 49s 157ms/step - loss: 0.5247 - accuracy: 0.8276 - val_loss: 0.8569 - val_accuracy: 0.7198\n",
            "Epoch 68/1000\n",
            "313/313 [==============================] - 49s 158ms/step - loss: 0.5182 - accuracy: 0.8326 - val_loss: 0.8362 - val_accuracy: 0.7270\n",
            "Epoch 69/1000\n",
            "313/313 [==============================] - 50s 159ms/step - loss: 0.5089 - accuracy: 0.8348 - val_loss: 0.8463 - val_accuracy: 0.7221\n",
            "Epoch 70/1000\n",
            "313/313 [==============================] - 67s 215ms/step - loss: 0.5051 - accuracy: 0.8365 - val_loss: 0.8479 - val_accuracy: 0.7240\n",
            "Epoch 71/1000\n",
            "313/313 [==============================] - 50s 160ms/step - loss: 0.4928 - accuracy: 0.8454 - val_loss: 0.8370 - val_accuracy: 0.7294\n",
            "Epoch 72/1000\n",
            "313/313 [==============================] - 49s 158ms/step - loss: 0.4903 - accuracy: 0.8421 - val_loss: 0.8654 - val_accuracy: 0.7196\n",
            "Epoch 73/1000\n",
            "313/313 [==============================] - 49s 158ms/step - loss: 0.4868 - accuracy: 0.8374 - val_loss: 0.8840 - val_accuracy: 0.7160\n",
            "Epoch 74/1000\n",
            "313/313 [==============================] - 50s 159ms/step - loss: 0.4671 - accuracy: 0.8535 - val_loss: 0.9022 - val_accuracy: 0.7148\n",
            "Epoch 75/1000\n",
            "313/313 [==============================] - 50s 159ms/step - loss: 0.4693 - accuracy: 0.8482 - val_loss: 0.8547 - val_accuracy: 0.7236\n",
            "Epoch 76/1000\n",
            "313/313 [==============================] - 50s 159ms/step - loss: 0.4638 - accuracy: 0.8520 - val_loss: 0.9015 - val_accuracy: 0.7153\n",
            "Epoch 77/1000\n",
            "313/313 [==============================] - 49s 158ms/step - loss: 0.4523 - accuracy: 0.8563 - val_loss: 0.8461 - val_accuracy: 0.7280\n",
            "Epoch 78/1000\n",
            "313/313 [==============================] - 49s 157ms/step - loss: 0.4548 - accuracy: 0.8516 - val_loss: 0.8721 - val_accuracy: 0.7208\n",
            "Epoch 79/1000\n",
            "313/313 [==============================] - 49s 157ms/step - loss: 0.4405 - accuracy: 0.8632 - val_loss: 0.8688 - val_accuracy: 0.7226\n",
            "Epoch 80/1000\n",
            "313/313 [==============================] - 49s 157ms/step - loss: 0.4286 - accuracy: 0.8643 - val_loss: 0.8825 - val_accuracy: 0.7203\n",
            "Epoch 81/1000\n",
            "313/313 [==============================] - 49s 157ms/step - loss: 0.4251 - accuracy: 0.8671 - val_loss: 0.8944 - val_accuracy: 0.7190\n",
            "Epoch 82/1000\n",
            "313/313 [==============================] - 49s 157ms/step - loss: 0.4214 - accuracy: 0.8651 - val_loss: 0.9809 - val_accuracy: 0.6996\n",
            "Epoch 83/1000\n",
            "313/313 [==============================] - 49s 156ms/step - loss: 0.4139 - accuracy: 0.8726 - val_loss: 0.9106 - val_accuracy: 0.7155\n",
            "Epoch 84/1000\n",
            "313/313 [==============================] - 49s 157ms/step - loss: 0.4032 - accuracy: 0.8734 - val_loss: 0.9064 - val_accuracy: 0.7195\n",
            "Epoch 85/1000\n",
            "313/313 [==============================] - 49s 158ms/step - loss: 0.3979 - accuracy: 0.8803 - val_loss: 0.9394 - val_accuracy: 0.7127\n",
            "Epoch 86/1000\n",
            "313/313 [==============================] - 49s 158ms/step - loss: 0.3859 - accuracy: 0.8821 - val_loss: 0.8979 - val_accuracy: 0.7174\n",
            "Epoch 00086: early stopping\n"
          ]
        }
      ],
      "source": [
        "STEP_SIZE_TRAIN=x_train.shape[0]//batch_size\n",
        "STEP_SIZE_VALID=valid_generator.n//valid_generator.batch_size\n",
        "\n",
        "history = model.fit(x=x_train,y=y_train,\n",
        "                    batch_size = batch_size,\n",
        "                    validation_data=valid_generator,\n",
        "                    validation_steps=STEP_SIZE_VALID,\n",
        "                    epochs=1000,callbacks=[mc_callback,es_callback])\n"
      ]
    },
    {
      "cell_type": "code",
      "execution_count": 20,
      "metadata": {
        "id": "dIJ_rVSGm97L",
        "colab": {
          "base_uri": "https://localhost:8080/"
        },
        "outputId": "99046c0a-b577-4895-bdfd-f3e5a9ece2ba"
      },
      "outputs": [
        {
          "output_type": "stream",
          "name": "stdout",
          "text": [
            "Model: \"model_1\"\n",
            "__________________________________________________________________________________________________\n",
            " Layer (type)                   Output Shape         Param #     Connected to                     \n",
            "==================================================================================================\n",
            " input_2 (InputLayer)           [(None, 32, 32, 3)]  0           []                               \n",
            "                                                                                                  \n",
            " tf.image.resize (TFOpLambda)   (None, 224, 224, 3)  0           ['input_2[0][0]']                \n",
            "                                                                                                  \n",
            " model (Functional)             (None, 7, 7, 320)    1843264     ['tf.image.resize[0][0]']        \n",
            "                                                                                                  \n",
            " tf.nn.relu (TFOpLambda)        (None, 7, 7, 320)    0           ['model[0][0]']                  \n",
            "                                                                                                  \n",
            " conv2d (Conv2D)                (None, 7, 7, 10)     156810      ['tf.nn.relu[0][0]']             \n",
            "                                                                                                  \n",
            " batch_normalization (BatchNorm  (None, 7, 7, 10)    40          ['conv2d[0][0]']                 \n",
            " alization)                                                                                       \n",
            "                                                                                                  \n",
            " tf.image.resize_1 (TFOpLambda)  (None, 7, 7, 3)     0           ['input_2[0][0]']                \n",
            "                                                                                                  \n",
            " tf.nn.relu_1 (TFOpLambda)      (None, 7, 7, 10)     0           ['batch_normalization[0][0]']    \n",
            "                                                                                                  \n",
            " concatenate (Concatenate)      (None, 7, 7, 13)     0           ['tf.image.resize_1[0][0]',      \n",
            "                                                                  'tf.nn.relu_1[0][0]']           \n",
            "                                                                                                  \n",
            " global_average_pooling2d (Glob  (None, 13)          0           ['concatenate[0][0]']            \n",
            " alAveragePooling2D)                                                                              \n",
            "                                                                                                  \n",
            " flatten (Flatten)              (None, 13)           0           ['global_average_pooling2d[0][0]'\n",
            "                                                                 ]                                \n",
            "                                                                                                  \n",
            " dense (Dense)                  (None, 64)           896         ['flatten[0][0]']                \n",
            "                                                                                                  \n",
            " dense_1 (Dense)                (None, 32)           2080        ['dense[0][0]']                  \n",
            "                                                                                                  \n",
            " dense_2 (Dense)                (None, 10)           330         ['dense_1[0][0]']                \n",
            "                                                                                                  \n",
            "==================================================================================================\n",
            "Total params: 2,003,420\n",
            "Trainable params: 160,136\n",
            "Non-trainable params: 1,843,284\n",
            "__________________________________________________________________________________________________\n"
          ]
        }
      ],
      "source": [
        "#best model load\n",
        "myModel = load_model(\"./best_model.hdf5\")\n",
        "myModel.summary()\n",
        "#predict\n",
        "y_pred = myModel.predict(x_test/255.)\n",
        "\n"
      ]
    },
    {
      "cell_type": "markdown",
      "metadata": {
        "id": "BX_snHwXnibz"
      },
      "source": [
        "**Fine tuning**"
      ]
    },
    {
      "cell_type": "code",
      "execution_count": 21,
      "metadata": {
        "id": "ag7BgpyhnkJN"
      },
      "outputs": [],
      "source": [
        "# Unfreeze all layers in base model\n",
        "tf.keras.backend.clear_session()  # For memory\n",
        "TL_base.trainable = True"
      ]
    },
    {
      "cell_type": "code",
      "execution_count": 22,
      "metadata": {
        "id": "4M52Yw4pnlTt",
        "colab": {
          "base_uri": "https://localhost:8080/"
        },
        "outputId": "104debc2-4e0a-4791-e6d9-1e456950cf58"
      },
      "outputs": [
        {
          "output_type": "stream",
          "name": "stdout",
          "text": [
            "Number of layers in the base model:  151\n"
          ]
        }
      ],
      "source": [
        "# Let's take a look to see how many layers are in the base model\n",
        "print(\"Number of layers in the base model: \", len(TL_base.layers))"
      ]
    },
    {
      "cell_type": "code",
      "execution_count": 23,
      "metadata": {
        "id": "6ZCltsMYnmjv"
      },
      "outputs": [],
      "source": [
        "# Fine-tune from this layer onwards\n",
        "fine_tune_at = 107  # 81, 107 for mobilenetV2\n",
        "\n",
        "# Freeze all the layers before the `fine_tune_at` layer\n",
        "for layer in TL_base.layers[:fine_tune_at]:\n",
        "  layer.trainable =  False"
      ]
    },
    {
      "cell_type": "code",
      "execution_count": 24,
      "metadata": {
        "id": "S22JobVhnnd8"
      },
      "outputs": [],
      "source": [
        "# Compile model\n",
        "model.compile(optimizer='SGD', \n",
        "                loss='categorical_crossentropy',  # sparse_categorical_crossentropy\n",
        "                metrics = ['accuracy'])"
      ]
    },
    {
      "cell_type": "code",
      "execution_count": 25,
      "metadata": {
        "id": "U4b_EPgPnpag",
        "colab": {
          "base_uri": "https://localhost:8080/"
        },
        "outputId": "ee191fa6-0d03-47a3-93b9-d9eaa8bb2309"
      },
      "outputs": [
        {
          "output_type": "stream",
          "name": "stdout",
          "text": [
            "Model: \"model_1\"\n",
            "__________________________________________________________________________________________________\n",
            " Layer (type)                   Output Shape         Param #     Connected to                     \n",
            "==================================================================================================\n",
            " input_2 (InputLayer)           [(None, 32, 32, 3)]  0           []                               \n",
            "                                                                                                  \n",
            " tf.image.resize (TFOpLambda)   (None, 224, 224, 3)  0           ['input_2[0][0]']                \n",
            "                                                                                                  \n",
            " model (Functional)             (None, 7, 7, 320)    1843264     ['tf.image.resize[0][0]']        \n",
            "                                                                                                  \n",
            " tf.nn.relu (TFOpLambda)        (None, 7, 7, 320)    0           ['model[0][0]']                  \n",
            "                                                                                                  \n",
            " conv2d (Conv2D)                (None, 7, 7, 10)     156810      ['tf.nn.relu[0][0]']             \n",
            "                                                                                                  \n",
            " batch_normalization (BatchNorm  (None, 7, 7, 10)    40          ['conv2d[0][0]']                 \n",
            " alization)                                                                                       \n",
            "                                                                                                  \n",
            " tf.image.resize_1 (TFOpLambda)  (None, 7, 7, 3)     0           ['input_2[0][0]']                \n",
            "                                                                                                  \n",
            " tf.nn.relu_1 (TFOpLambda)      (None, 7, 7, 10)     0           ['batch_normalization[0][0]']    \n",
            "                                                                                                  \n",
            " concatenate (Concatenate)      (None, 7, 7, 13)     0           ['tf.image.resize_1[0][0]',      \n",
            "                                                                  'tf.nn.relu_1[0][0]']           \n",
            "                                                                                                  \n",
            " global_average_pooling2d (Glob  (None, 13)          0           ['concatenate[0][0]']            \n",
            " alAveragePooling2D)                                                                              \n",
            "                                                                                                  \n",
            " flatten (Flatten)              (None, 13)           0           ['global_average_pooling2d[0][0]'\n",
            "                                                                 ]                                \n",
            "                                                                                                  \n",
            " dense (Dense)                  (None, 64)           896         ['flatten[0][0]']                \n",
            "                                                                                                  \n",
            " dense_1 (Dense)                (None, 32)           2080        ['dense[0][0]']                  \n",
            "                                                                                                  \n",
            " dense_2 (Dense)                (None, 10)           330         ['dense_1[0][0]']                \n",
            "                                                                                                  \n",
            "==================================================================================================\n",
            "Total params: 2,003,420\n",
            "Trainable params: 1,547,592\n",
            "Non-trainable params: 455,828\n",
            "__________________________________________________________________________________________________\n"
          ]
        }
      ],
      "source": [
        "model.summary()"
      ]
    },
    {
      "cell_type": "code",
      "execution_count": 26,
      "metadata": {
        "id": "D1nSu0mEnqdN"
      },
      "outputs": [],
      "source": [
        "mc_callback = callbacks.ModelCheckpoint(filepath=\"./best_model.hdf5\", \n",
        "                              monitor='val_accuracy', verbose=0, save_best_only=True)\n",
        "es_callback = callbacks.EarlyStopping(monitor='val_accuracy', \n",
        "                            mode='max', verbose=1, patience=15)\n"
      ]
    },
    {
      "cell_type": "markdown",
      "metadata": {
        "id": "dFZ0oentns7H"
      },
      "source": [
        "**Train fine-tuned model**"
      ]
    },
    {
      "cell_type": "code",
      "execution_count": 27,
      "metadata": {
        "id": "TNI4aziinrbh"
      },
      "outputs": [],
      "source": [
        "history_dict = history.history\n",
        "loss = history_dict['loss']\n",
        "\n",
        "INITIAL_EPOCHS = len(loss)\n",
        "FINE_TUNE_EPOCHS = 100\n",
        "TOTAL_EPOCHS = INITIAL_EPOCHS + FINE_TUNE_EPOCHS #"
      ]
    },
    {
      "cell_type": "code",
      "execution_count": 28,
      "metadata": {
        "id": "ZPYem38QnwN-",
        "colab": {
          "base_uri": "https://localhost:8080/"
        },
        "outputId": "bcf96013-7765-4295-f56e-429f7725f52d"
      },
      "outputs": [
        {
          "output_type": "stream",
          "name": "stdout",
          "text": [
            "Epoch 1/1000\n",
            "313/313 [==============================] - ETA: 0s - loss: 0.7738 - accuracy: 0.7333"
          ]
        },
        {
          "output_type": "stream",
          "name": "stderr",
          "text": [
            "/usr/local/lib/python3.7/dist-packages/keras/engine/functional.py:1410: CustomMaskWarning: Custom mask layers require a config and must override get_config. When loading, the custom mask layer must be passed to the custom_objects argument.\n",
            "  layer_config = serialize_layer_fn(layer)\n"
          ]
        },
        {
          "output_type": "stream",
          "name": "stdout",
          "text": [
            "313/313 [==============================] - 80s 243ms/step - loss: 0.7738 - accuracy: 0.7333 - val_loss: 1.2543 - val_accuracy: 0.6059\n",
            "Epoch 2/1000\n",
            "313/313 [==============================] - 57s 182ms/step - loss: 0.2994 - accuracy: 0.8998 - val_loss: 2.2133 - val_accuracy: 0.5003\n",
            "Epoch 3/1000\n",
            "313/313 [==============================] - 57s 183ms/step - loss: 0.1372 - accuracy: 0.9585 - val_loss: 1.0431 - val_accuracy: 0.7188\n",
            "Epoch 4/1000\n",
            "313/313 [==============================] - 57s 182ms/step - loss: 0.0766 - accuracy: 0.9792 - val_loss: 1.3291 - val_accuracy: 0.6884\n",
            "Epoch 5/1000\n",
            "313/313 [==============================] - 57s 184ms/step - loss: 0.0512 - accuracy: 0.9870 - val_loss: 1.1225 - val_accuracy: 0.7361\n",
            "Epoch 6/1000\n",
            "313/313 [==============================] - 57s 184ms/step - loss: 0.0364 - accuracy: 0.9919 - val_loss: 0.8300 - val_accuracy: 0.7956\n",
            "Epoch 7/1000\n",
            "313/313 [==============================] - 57s 183ms/step - loss: 0.0306 - accuracy: 0.9934 - val_loss: 1.0080 - val_accuracy: 0.7763\n",
            "Epoch 8/1000\n",
            "313/313 [==============================] - 57s 183ms/step - loss: 0.0243 - accuracy: 0.9947 - val_loss: 0.8342 - val_accuracy: 0.8066\n",
            "Epoch 9/1000\n",
            "313/313 [==============================] - 57s 182ms/step - loss: 0.0234 - accuracy: 0.9946 - val_loss: 0.8015 - val_accuracy: 0.8097\n",
            "Epoch 10/1000\n",
            "313/313 [==============================] - 57s 183ms/step - loss: 0.0215 - accuracy: 0.9946 - val_loss: 0.7085 - val_accuracy: 0.8310\n",
            "Epoch 11/1000\n",
            "313/313 [==============================] - 57s 182ms/step - loss: 0.0153 - accuracy: 0.9970 - val_loss: 0.7540 - val_accuracy: 0.8250\n",
            "Epoch 12/1000\n",
            "313/313 [==============================] - 57s 181ms/step - loss: 0.0124 - accuracy: 0.9975 - val_loss: 0.7649 - val_accuracy: 0.8268\n",
            "Epoch 13/1000\n",
            "313/313 [==============================] - 57s 181ms/step - loss: 0.0111 - accuracy: 0.9981 - val_loss: 0.7338 - val_accuracy: 0.8294\n",
            "Epoch 14/1000\n",
            "313/313 [==============================] - 57s 181ms/step - loss: 0.0124 - accuracy: 0.9975 - val_loss: 0.7126 - val_accuracy: 0.8310\n",
            "Epoch 15/1000\n",
            "313/313 [==============================] - 74s 238ms/step - loss: 0.0110 - accuracy: 0.9980 - val_loss: 0.7654 - val_accuracy: 0.8196\n",
            "Epoch 16/1000\n",
            "313/313 [==============================] - 57s 183ms/step - loss: 0.0087 - accuracy: 0.9983 - val_loss: 0.7554 - val_accuracy: 0.8225\n",
            "Epoch 17/1000\n",
            "313/313 [==============================] - 74s 238ms/step - loss: 0.0086 - accuracy: 0.9982 - val_loss: 0.7779 - val_accuracy: 0.8219\n",
            "Epoch 18/1000\n",
            "313/313 [==============================] - 57s 181ms/step - loss: 0.0076 - accuracy: 0.9985 - val_loss: 0.8088 - val_accuracy: 0.8200\n",
            "Epoch 19/1000\n",
            "313/313 [==============================] - 57s 181ms/step - loss: 0.0096 - accuracy: 0.9981 - val_loss: 0.7934 - val_accuracy: 0.8225\n",
            "Epoch 20/1000\n",
            "313/313 [==============================] - 57s 181ms/step - loss: 0.0067 - accuracy: 0.9989 - val_loss: 0.8049 - val_accuracy: 0.8180\n",
            "Epoch 21/1000\n",
            "313/313 [==============================] - 57s 181ms/step - loss: 0.0094 - accuracy: 0.9969 - val_loss: 0.8912 - val_accuracy: 0.8120\n",
            "Epoch 22/1000\n",
            "313/313 [==============================] - 57s 181ms/step - loss: 0.0080 - accuracy: 0.9982 - val_loss: 0.8413 - val_accuracy: 0.8112\n",
            "Epoch 23/1000\n",
            "313/313 [==============================] - 57s 181ms/step - loss: 0.0066 - accuracy: 0.9985 - val_loss: 0.7955 - val_accuracy: 0.8223\n",
            "Epoch 24/1000\n",
            "313/313 [==============================] - 57s 182ms/step - loss: 0.0053 - accuracy: 0.9990 - val_loss: 0.8164 - val_accuracy: 0.8174\n",
            "Epoch 25/1000\n",
            "313/313 [==============================] - 57s 181ms/step - loss: 0.0052 - accuracy: 0.9991 - val_loss: 0.7967 - val_accuracy: 0.8222\n",
            "Epoch 00025: early stopping\n",
            "CPU times: user 9min 51s, sys: 40 s, total: 10min 31s\n",
            "Wall time: 24min 39s\n"
          ]
        }
      ],
      "source": [
        "%%time\n",
        "history = model.fit(x=x_train,y=y_train,\n",
        "                    batch_size = batch_size,\n",
        "                    validation_data=valid_generator,\n",
        "                    validation_steps=STEP_SIZE_VALID,\n",
        "                    epochs=1000,callbacks=[mc_callback,es_callback])"
      ]
    },
    {
      "cell_type": "code",
      "execution_count": 30,
      "metadata": {
        "id": "5GVmKYxVA4iV",
        "colab": {
          "base_uri": "https://localhost:8080/"
        },
        "outputId": "7436f6d6-4a0a-46b7-e3d0-822a5c47df03"
      },
      "outputs": [
        {
          "output_type": "stream",
          "name": "stdout",
          "text": [
            "Model: \"model_1\"\n",
            "__________________________________________________________________________________________________\n",
            " Layer (type)                   Output Shape         Param #     Connected to                     \n",
            "==================================================================================================\n",
            " input_2 (InputLayer)           [(None, 32, 32, 3)]  0           []                               \n",
            "                                                                                                  \n",
            " tf.image.resize (TFOpLambda)   (None, 224, 224, 3)  0           ['input_2[0][0]']                \n",
            "                                                                                                  \n",
            " model (Functional)             (None, 7, 7, 320)    1843264     ['tf.image.resize[0][0]']        \n",
            "                                                                                                  \n",
            " tf.nn.relu (TFOpLambda)        (None, 7, 7, 320)    0           ['model[0][0]']                  \n",
            "                                                                                                  \n",
            " conv2d (Conv2D)                (None, 7, 7, 10)     156810      ['tf.nn.relu[0][0]']             \n",
            "                                                                                                  \n",
            " batch_normalization (BatchNorm  (None, 7, 7, 10)    40          ['conv2d[0][0]']                 \n",
            " alization)                                                                                       \n",
            "                                                                                                  \n",
            " tf.image.resize_1 (TFOpLambda)  (None, 7, 7, 3)     0           ['input_2[0][0]']                \n",
            "                                                                                                  \n",
            " tf.nn.relu_1 (TFOpLambda)      (None, 7, 7, 10)     0           ['batch_normalization[0][0]']    \n",
            "                                                                                                  \n",
            " concatenate (Concatenate)      (None, 7, 7, 13)     0           ['tf.image.resize_1[0][0]',      \n",
            "                                                                  'tf.nn.relu_1[0][0]']           \n",
            "                                                                                                  \n",
            " global_average_pooling2d (Glob  (None, 13)          0           ['concatenate[0][0]']            \n",
            " alAveragePooling2D)                                                                              \n",
            "                                                                                                  \n",
            " flatten (Flatten)              (None, 13)           0           ['global_average_pooling2d[0][0]'\n",
            "                                                                 ]                                \n",
            "                                                                                                  \n",
            " dense (Dense)                  (None, 64)           896         ['flatten[0][0]']                \n",
            "                                                                                                  \n",
            " dense_1 (Dense)                (None, 32)           2080        ['dense[0][0]']                  \n",
            "                                                                                                  \n",
            " dense_2 (Dense)                (None, 10)           330         ['dense_1[0][0]']                \n",
            "                                                                                                  \n",
            "==================================================================================================\n",
            "Total params: 2,003,420\n",
            "Trainable params: 160,136\n",
            "Non-trainable params: 1,843,284\n",
            "__________________________________________________________________________________________________\n",
            "0.7293\n"
          ]
        }
      ],
      "source": [
        "#best model load\n",
        "mymodel = load_model(\"./best_model.hdf5\")\n",
        "myModel.summary()\n",
        "#predict\n",
        "y_pred = myModel.predict(x_test/255.)\n",
        "\n",
        "from sklearn.metrics import confusion_matrix\n",
        "CM = confusion_matrix(np.argmax(y_test,axis = 1),np.argmax(y_pred,axis = 1))\n",
        "# acc = np.sum(np.diag(CM))/np.sum(CM)\n",
        "# print(acc)"
      ]
    },
    {
      "cell_type": "markdown",
      "source": [
        "**Val_acc**"
      ],
      "metadata": {
        "id": "iN77qRPeyjXQ"
      }
    },
    {
      "cell_type": "code",
      "source": [
        "model.evaluate(valid_generator, batch_size=32)\n",
        "\n",
        "tf.keras.backend.clear_session()  # For memory\n",
        "TL_base.trainable = True\n",
        "\n",
        "# Let's take a look to see how many layers are in the base model\n",
        "print(\"Number of layers in the base model: \", len(TL_base.layers))"
      ],
      "metadata": {
        "colab": {
          "base_uri": "https://localhost:8080/"
        },
        "id": "BnsAJNkjawWw",
        "outputId": "2ed6957f-a951-4897-c75e-af2a631fea77"
      },
      "execution_count": 31,
      "outputs": [
        {
          "output_type": "stream",
          "name": "stdout",
          "text": [
            "313/313 [==============================] - 25s 81ms/step - loss: 0.7969 - accuracy: 0.8221\n",
            "Number of layers in the base model:  151\n"
          ]
        }
      ]
    },
    {
      "cell_type": "markdown",
      "source": [
        "**confusion Maxtrix**"
      ],
      "metadata": {
        "id": "WTF2ShLwaV7P"
      }
    },
    {
      "cell_type": "code",
      "source": [
        "import seaborn as sns\n",
        "plt.figure(figsize=(9,9))\n",
        "classes = ['airplane', 'automobile', 'bird', 'cat', 'deer', 'dog', 'frog', 'horse', 'ship', 'truck']\n",
        "sns.heatmap(CM, cbar=False, xticklabels=classes, yticklabels=classes, fmt='d', annot=True, cmap=plt.cm.coolwarm)\n",
        "plt.xlabel('Predicted')\n",
        "plt.ylabel('Actual')\n",
        "plt.title('Confusion matrix', fontsize=20)\n",
        "plt.show()"
      ],
      "metadata": {
        "colab": {
          "base_uri": "https://localhost:8080/",
          "height": 572
        },
        "id": "5QMsdDg7aS4Q",
        "outputId": "344caf7a-49f2-43a2-f8c3-bfcbb0bc805e"
      },
      "execution_count": 32,
      "outputs": [
        {
          "output_type": "display_data",
          "data": {
            "image/png": "[encoded data removed]",
            "text/plain": [
              "<Figure size 648x648 with 1 Axes>"
            ]
          },
          "metadata": {
            "needs_background": "light"
          }
        }
      ]
    }
  ],
  "metadata": {
    "accelerator": "GPU",
    "colab": {
      "collapsed_sections": [],
      "name": "Final.ipynb",
      "provenance": [],
      "include_colab_link": true
    },
    "kernelspec": {
      "display_name": "Python 3",
      "name": "python3"
    },
    "language_info": {
      "name": "python"
    }
  },
  "nbformat": 4,
  "nbformat_minor": 0
}
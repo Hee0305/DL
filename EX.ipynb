{
  "nbformat": 4,
  "nbformat_minor": 0,
  "metadata": {
    "colab": {
      "name": "EX.ipynb",
      "provenance": [],
      "authorship_tag": "ABX9TyNd4JEoebgyzrJZrLQ29wuO",
      "include_colab_link": true
    },
    "kernelspec": {
      "name": "python3",
      "display_name": "Python 3"
    },
    "language_info": {
      "name": "python"
    },
    "accelerator": "GPU"
  },
  "cells": [
    {
      "cell_type": "markdown",
      "metadata": {
        "id": "view-in-github",
        "colab_type": "text"
      },
      "source": [
        "<a href=\"https://colab.research.google.com/github/Hee0305/DL/blob/main/EX.ipynb\" target=\"_parent\"><img src=\"https://colab.research.google.com/assets/colab-badge.svg\" alt=\"Open In Colab\"/></a>"
      ]
    },
    {
      "cell_type": "code",
      "execution_count": null,
      "metadata": {
        "colab": {
          "base_uri": "https://localhost:8080/"
        },
        "id": "RmMVBRxRsuWc",
        "outputId": "9301fec0-1594-4e1f-c58b-a886139232ec"
      },
      "outputs": [
        {
          "output_type": "stream",
          "name": "stdout",
          "text": [
            "2.7.0\n"
          ]
        }
      ],
      "source": [
        "# from tensorflow.keras.applications.resnet50 import ResNet50, preprocess_input\n",
        "from tensorflow.keras.applications.mobilenet_v2 import  MobileNetV2, preprocess_input\n",
        "import tensorflow.keras as keras\n",
        "from tensorflow.keras import models\n",
        "from tensorflow.keras import layers\n",
        "from tensorflow.keras import optimizers\n",
        "import tensorflow as tf\n",
        "from keras.utils import np_utils\n",
        "from keras.models import load_model\n",
        "from keras.datasets import cifar10\n",
        "from keras.preprocessing import image\n",
        "import numpy as np\n",
        "import matplotlib.pyplot as plt\n",
        "from PIL import Image\n",
        "# import cv2\n",
        "print(tf.__version__)"
      ]
    },
    {
      "cell_type": "code",
      "source": [
        "from keras.datasets import cifar10\n",
        "# load dataset\n",
        "(trainX, trainy), (testX, testy) = cifar10.load_data()\n",
        "# summarize loaded dataset\n",
        "print('Train: X=%s, y=%s' % (trainX.shape, trainy.shape))\n",
        "print('Test: X=%s, y=%s' % (testX.shape, testy.shape))\n",
        "\n",
        "#training의 10% split -> numpy 코드 이용(사이킷런)\n"
      ],
      "metadata": {
        "colab": {
          "base_uri": "https://localhost:8080/"
        },
        "id": "c3t_yD6rt1Kr",
        "outputId": "a147c318-7705-4c6b-fc29-35d382fc2eb8"
      },
      "execution_count": null,
      "outputs": [
        {
          "output_type": "stream",
          "name": "stdout",
          "text": [
            "Train: X=(50000, 32, 32, 3), y=(50000, 1)\n",
            "Test: X=(10000, 32, 32, 3), y=(10000, 1)\n"
          ]
        }
      ]
    },
    {
      "cell_type": "code",
      "source": [
        "from sklearn.model_selection import train_test_split\n",
        "X_train,X_test,y_train,y_test = \\\n",
        "            train_test_split(trainX,trainy,\n",
        "                             random_state=42,\n",
        "                             test_size=0.1,\n",
        "                             stratify=trainy)\n",
        "\n",
        "Xtrain = X_test\n",
        "print(Xtrain.shape) # X_train\n",
        "ytrain = y_test\n",
        "print(ytrain.shape) # y_train\n"
      ],
      "metadata": {
        "colab": {
          "base_uri": "https://localhost:8080/"
        },
        "id": "O9NFktg4t7mL",
        "outputId": "726dba69-ce1e-4e59-f48c-d536254c65cf"
      },
      "execution_count": null,
      "outputs": [
        {
          "output_type": "stream",
          "name": "stdout",
          "text": [
            "(5000, 32, 32, 3)\n",
            "(5000, 1)\n"
          ]
        }
      ]
    },
    {
      "cell_type": "markdown",
      "source": [
        "데이터 정규화"
      ],
      "metadata": {
        "id": "b0KRaFlLwlc7"
      }
    },
    {
      "cell_type": "code",
      "source": [
        "# def preprocess_image_input(input_images): #이미지 픽셀 값 정수 -> 실수, preprocess_input함수로 바꿔줌(정규화)\n",
        "#   input_images = input_images.astype('float32')\n",
        "#   output_ims = preprocess_input(input_images)\n",
        "#   return output_ims"
      ],
      "metadata": {
        "id": "NHopoSI6wde4"
      },
      "execution_count": null,
      "outputs": []
    },
    {
      "cell_type": "code",
      "source": [
        "# #전처리 된 데이터\n",
        "# x_train = preprocess_image_input(Xtrain)\n",
        "# x_test = preprocess_image_input(testX)"
      ],
      "metadata": {
        "id": "i4mZC-1lwezJ"
      },
      "execution_count": null,
      "outputs": []
    },
    {
      "cell_type": "code",
      "source": [
        "# x_train.shape ,x_test.shape #,len(x_train),x_train[4].shape"
      ],
      "metadata": {
        "colab": {
          "base_uri": "https://localhost:8080/"
        },
        "id": "EMClLR8IwgnE",
        "outputId": "c7644033-6362-4665-b3db-1cef0c1ec57c"
      },
      "execution_count": null,
      "outputs": [
        {
          "output_type": "execute_result",
          "data": {
            "text/plain": [
              "((5000, 32, 32, 3), (10000, 32, 32, 3))"
            ]
          },
          "metadata": {},
          "execution_count": 6
        }
      ]
    },
    {
      "cell_type": "code",
      "source": [
        "# y_train=ytrain\n",
        "# y_test=testy\n",
        "# y_train.shape,y_test.shape"
      ],
      "metadata": {
        "colab": {
          "base_uri": "https://localhost:8080/"
        },
        "id": "ILMMBAN4y19_",
        "outputId": "c22fca47-80ad-4027-dea6-19d21e28a500"
      },
      "execution_count": null,
      "outputs": [
        {
          "output_type": "execute_result",
          "data": {
            "text/plain": [
              "((5000, 1), (10000, 1))"
            ]
          },
          "metadata": {},
          "execution_count": 7
        }
      ]
    },
    {
      "cell_type": "code",
      "source": [
        "# TL_base = MobileNetV2(weights='imagenet', include_top=False, input_shape=(224, 224, 3))\n"
      ],
      "metadata": {
        "colab": {
          "base_uri": "https://localhost:8080/"
        },
        "id": "t627WlWiyVeL",
        "outputId": "cf184581-2e5c-4bf0-ce97-231aa18aed15"
      },
      "execution_count": null,
      "outputs": [
        {
          "output_type": "stream",
          "name": "stdout",
          "text": [
            "Downloading data from https://storage.googleapis.com/tensorflow/keras-applications/mobilenet_v2/mobilenet_v2_weights_tf_dim_ordering_tf_kernels_1.0_224_no_top.h5\n",
            "9412608/9406464 [==============================] - 0s 0us/step\n",
            "9420800/9406464 [==============================] - 0s 0us/step\n"
          ]
        }
      ]
    },
    {
      "cell_type": "code",
      "source": [
        "# # Set TL_base trainable or not.\n",
        "# TL_base.trainable = False  # Use the representative features pretrained by resnet."
      ],
      "metadata": {
        "id": "ISfm3M-L0idI"
      },
      "execution_count": null,
      "outputs": []
    },
    {
      "cell_type": "code",
      "source": [
        "# model = models.Sequential()\n",
        "# model.add(keras.Input(shape=(32,32,3)))\n",
        "# model.add(layers.UpSampling2D((7,7)))  # 32*7 = 224\n",
        "# model.add(TL_base)\n",
        "# model.add(layers.GlobalAveragePooling2D()) # (7,7,2048) => (2048,)\n",
        "# model.add(layers.Flatten())\n",
        "# model.add(layers.BatchNormalization())\n",
        "# model.add(layers.Dense(1024, activation='relu'))\n",
        "# model.add(layers.Dropout(0.5))\n",
        "# model.add(layers.BatchNormalization())\n",
        "# model.add(layers.Dense(512, activation='relu'))\n",
        "# model.add(layers.Dropout(0.5))\n",
        "# model.add(layers.BatchNormalization())\n",
        "# model.add(layers.Dense(10, activation='softmax'))\n",
        "\n",
        "# # model.compile(optimizer=optimizers.RMSprop(lr=2e-5), loss='binary_crossentropy', metrics=['acc'])\n",
        "# # model.compile(optimizer='adam', loss='categorical_crossentropy', metrics=['accuracy']) \n",
        "# model.compile(optimizer='SGD', \n",
        "#                 loss='sparse_categorical_crossentropy',  # sparse_categorical_crossentropy\n",
        "#                 metrics = ['accuracy'])"
      ],
      "metadata": {
        "id": "QPjK2V-s0kE3"
      },
      "execution_count": null,
      "outputs": []
    },
    {
      "cell_type": "code",
      "source": [
        "# from tensorflow.keras import layers, models, callbacks"
      ],
      "metadata": {
        "id": "w4c405Nv1N5n"
      },
      "execution_count": null,
      "outputs": []
    },
    {
      "cell_type": "code",
      "source": [
        "# mc_callback = callbacks.ModelCheckpoint(filepath=\"./model/cifar10_mobileNetV2S_SGD_best_weights.{epoch:03d}-{val_accuracy:.4f}.hdf5\", \n",
        "#                               monitor='val_accuracy', verbose=0, save_best_only=True)\n",
        "# es_callback = callbacks.EarlyStopping(monitor='val_accuracy', \n",
        "#                             mode='max', verbose=1, patience=3)"
      ],
      "metadata": {
        "id": "U-FMNQHS1OZz"
      },
      "execution_count": null,
      "outputs": []
    },
    {
      "cell_type": "code",
      "source": [
        "# history = model.fit(x_train, y_train, \n",
        "#                     epochs=100, batch_size=64, \n",
        "#                     validation_data=(x_test, y_test),\n",
        "#                     callbacks=[mc_callback,es_callback])"
      ],
      "metadata": {
        "colab": {
          "base_uri": "https://localhost:8080/"
        },
        "id": "Ne5eERMI1XdK",
        "outputId": "8202ddc1-9b22-4e36-b7fa-17fde65e9690"
      },
      "execution_count": null,
      "outputs": [
        {
          "output_type": "stream",
          "name": "stdout",
          "text": [
            "Epoch 1/100\n",
            "79/79 [==============================] - ETA: 0s - loss: 2.4442 - accuracy: 0.2354"
          ]
        },
        {
          "output_type": "stream",
          "name": "stderr",
          "text": [
            "/usr/local/lib/python3.7/dist-packages/keras/engine/functional.py:1410: CustomMaskWarning: Custom mask layers require a config and must override get_config. When loading, the custom mask layer must be passed to the custom_objects argument.\n",
            "  layer_config = serialize_layer_fn(layer)\n"
          ]
        },
        {
          "output_type": "stream",
          "name": "stdout",
          "text": [
            "79/79 [==============================] - 49s 463ms/step - loss: 2.4442 - accuracy: 0.2354 - val_loss: 1.7154 - val_accuracy: 0.4321\n",
            "Epoch 2/100\n",
            "79/79 [==============================] - 35s 445ms/step - loss: 1.8503 - accuracy: 0.3784 - val_loss: 1.4327 - val_accuracy: 0.5216\n",
            "Epoch 3/100\n",
            "79/79 [==============================] - 35s 447ms/step - loss: 1.6160 - accuracy: 0.4534 - val_loss: 1.2767 - val_accuracy: 0.5673\n",
            "Epoch 4/100\n",
            "79/79 [==============================] - 35s 447ms/step - loss: 1.4944 - accuracy: 0.4810 - val_loss: 1.1863 - val_accuracy: 0.5887\n",
            "Epoch 5/100\n",
            "79/79 [==============================] - 35s 445ms/step - loss: 1.4154 - accuracy: 0.5132 - val_loss: 1.1356 - val_accuracy: 0.6042\n",
            "Epoch 6/100\n",
            "79/79 [==============================] - 35s 445ms/step - loss: 1.3182 - accuracy: 0.5452 - val_loss: 1.0931 - val_accuracy: 0.6214\n",
            "Epoch 7/100\n",
            "79/79 [==============================] - 35s 446ms/step - loss: 1.2511 - accuracy: 0.5650 - val_loss: 1.0683 - val_accuracy: 0.6272\n",
            "Epoch 8/100\n",
            "79/79 [==============================] - 53s 679ms/step - loss: 1.2125 - accuracy: 0.5792 - val_loss: 1.0480 - val_accuracy: 0.6345\n",
            "Epoch 9/100\n",
            "79/79 [==============================] - 35s 445ms/step - loss: 1.1513 - accuracy: 0.5902 - val_loss: 1.0299 - val_accuracy: 0.6395\n",
            "Epoch 10/100\n",
            "79/79 [==============================] - 35s 444ms/step - loss: 1.1364 - accuracy: 0.6040 - val_loss: 1.0163 - val_accuracy: 0.6431\n",
            "Epoch 11/100\n",
            "79/79 [==============================] - 35s 444ms/step - loss: 1.0760 - accuracy: 0.6194 - val_loss: 1.0010 - val_accuracy: 0.6502\n",
            "Epoch 12/100\n",
            "79/79 [==============================] - 35s 445ms/step - loss: 1.0479 - accuracy: 0.6340 - val_loss: 0.9901 - val_accuracy: 0.6538\n",
            "Epoch 13/100\n",
            "79/79 [==============================] - 53s 679ms/step - loss: 1.0179 - accuracy: 0.6372 - val_loss: 0.9792 - val_accuracy: 0.6577\n",
            "Epoch 14/100\n",
            "79/79 [==============================] - 35s 446ms/step - loss: 1.0034 - accuracy: 0.6442 - val_loss: 0.9675 - val_accuracy: 0.6617\n",
            "Epoch 15/100\n",
            "79/79 [==============================] - 35s 445ms/step - loss: 0.9722 - accuracy: 0.6658 - val_loss: 0.9617 - val_accuracy: 0.6656\n",
            "Epoch 16/100\n",
            "79/79 [==============================] - 35s 441ms/step - loss: 0.9505 - accuracy: 0.6630 - val_loss: 0.9550 - val_accuracy: 0.6656\n",
            "Epoch 17/100\n",
            "79/79 [==============================] - 35s 445ms/step - loss: 0.9395 - accuracy: 0.6686 - val_loss: 0.9507 - val_accuracy: 0.6675\n",
            "Epoch 18/100\n",
            "79/79 [==============================] - 53s 680ms/step - loss: 0.9002 - accuracy: 0.6762 - val_loss: 0.9443 - val_accuracy: 0.6700\n",
            "Epoch 19/100\n",
            "79/79 [==============================] - 35s 444ms/step - loss: 0.8757 - accuracy: 0.6886 - val_loss: 0.9385 - val_accuracy: 0.6701\n",
            "Epoch 20/100\n",
            "79/79 [==============================] - 53s 679ms/step - loss: 0.8631 - accuracy: 0.6924 - val_loss: 0.9328 - val_accuracy: 0.6747\n",
            "Epoch 21/100\n",
            "79/79 [==============================] - 35s 444ms/step - loss: 0.8517 - accuracy: 0.7036 - val_loss: 0.9287 - val_accuracy: 0.6765\n",
            "Epoch 22/100\n",
            "79/79 [==============================] - 34s 439ms/step - loss: 0.8360 - accuracy: 0.7006 - val_loss: 0.9269 - val_accuracy: 0.6758\n",
            "Epoch 23/100\n",
            "79/79 [==============================] - 35s 444ms/step - loss: 0.8273 - accuracy: 0.7126 - val_loss: 0.9232 - val_accuracy: 0.6782\n",
            "Epoch 24/100\n",
            "79/79 [==============================] - 35s 444ms/step - loss: 0.7897 - accuracy: 0.7218 - val_loss: 0.9190 - val_accuracy: 0.6796\n",
            "Epoch 25/100\n",
            "79/79 [==============================] - 35s 443ms/step - loss: 0.8022 - accuracy: 0.7190 - val_loss: 0.9139 - val_accuracy: 0.6804\n",
            "Epoch 26/100\n",
            "79/79 [==============================] - 34s 440ms/step - loss: 0.7696 - accuracy: 0.7336 - val_loss: 0.9170 - val_accuracy: 0.6785\n",
            "Epoch 27/100\n",
            "79/79 [==============================] - 35s 443ms/step - loss: 0.7722 - accuracy: 0.7310 - val_loss: 0.9114 - val_accuracy: 0.6812\n",
            "Epoch 28/100\n",
            "79/79 [==============================] - 35s 443ms/step - loss: 0.7611 - accuracy: 0.7300 - val_loss: 0.9082 - val_accuracy: 0.6847\n",
            "Epoch 29/100\n",
            "79/79 [==============================] - 35s 444ms/step - loss: 0.7446 - accuracy: 0.7370 - val_loss: 0.9056 - val_accuracy: 0.6849\n",
            "Epoch 30/100\n",
            "79/79 [==============================] - 34s 439ms/step - loss: 0.7030 - accuracy: 0.7478 - val_loss: 0.9081 - val_accuracy: 0.6835\n",
            "Epoch 31/100\n",
            "79/79 [==============================] - 34s 439ms/step - loss: 0.7119 - accuracy: 0.7440 - val_loss: 0.9048 - val_accuracy: 0.6846\n",
            "Epoch 32/100\n",
            "79/79 [==============================] - 35s 444ms/step - loss: 0.6946 - accuracy: 0.7524 - val_loss: 0.9059 - val_accuracy: 0.6857\n",
            "Epoch 33/100\n",
            "79/79 [==============================] - 35s 441ms/step - loss: 0.6972 - accuracy: 0.7542 - val_loss: 0.9031 - val_accuracy: 0.6841\n",
            "Epoch 34/100\n",
            "79/79 [==============================] - 53s 679ms/step - loss: 0.6692 - accuracy: 0.7620 - val_loss: 0.8992 - val_accuracy: 0.6866\n",
            "Epoch 35/100\n",
            "79/79 [==============================] - 35s 448ms/step - loss: 0.6655 - accuracy: 0.7618 - val_loss: 0.8998 - val_accuracy: 0.6882\n",
            "Epoch 36/100\n",
            "79/79 [==============================] - 34s 440ms/step - loss: 0.6560 - accuracy: 0.7682 - val_loss: 0.9106 - val_accuracy: 0.6831\n",
            "Epoch 37/100\n",
            "79/79 [==============================] - 35s 440ms/step - loss: 0.6357 - accuracy: 0.7744 - val_loss: 0.9003 - val_accuracy: 0.6870\n",
            "Epoch 38/100\n",
            "79/79 [==============================] - 35s 441ms/step - loss: 0.6278 - accuracy: 0.7710 - val_loss: 0.9014 - val_accuracy: 0.6881\n",
            "Epoch 00038: early stopping\n"
          ]
        }
      ]
    }
  ]
}